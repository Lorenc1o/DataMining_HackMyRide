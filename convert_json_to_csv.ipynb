{
 "cells": [
  {
   "cell_type": "code",
   "execution_count": 11,
   "metadata": {},
   "outputs": [],
   "source": [
    "import pandas as pd\n",
    "import json\n",
    "import csv\n",
    "import os"
   ]
  },
  {
   "cell_type": "code",
   "execution_count": 7,
   "metadata": {},
   "outputs": [],
   "source": [
    "def json_to_csv(output_f, input_f):\n",
    "    csv_line = ['time','lineID','directionID','distancefromPoint','pointID']\n",
    "    #csv file for the result\n",
    "    c = open(output_f, 'w',newline='')\n",
    "\n",
    "    # create the csv writer\n",
    "    writer = csv.writer(c)\n",
    "\n",
    "    # write csv header\n",
    "    writer.writerow(csv_line)\n",
    "\n",
    "    #Open json file\n",
    "    with open(input_f,'r') as f:\n",
    "        json_file = json.loads(f.read())\n",
    "        \n",
    "        #loop through timestamps\n",
    "        for data in json_file['data']:\n",
    "            time = data['time']\n",
    "            #print(time)\n",
    "            \n",
    "            #loop through all responses of a timestamp\n",
    "            for response in data['Responses']:\n",
    "                \n",
    "                #loop through all lines of a response\n",
    "                try:\n",
    "                    for line in response['lines']:\n",
    "                        lineId = line['lineId']\n",
    "                        \n",
    "                        #loop throgh all vehicle positions of a line\n",
    "                        for vehiclePosition in line['vehiclePositions']:\n",
    "                            directionId = vehiclePosition['directionId']\n",
    "                            distanceFromPoint = vehiclePosition['distanceFromPoint']\n",
    "                            pointId = vehiclePosition['pointId']\n",
    "                            \n",
    "                            #write to csv file\n",
    "                            csv_line = [time,lineId,directionId,distanceFromPoint,pointId]\n",
    "                            writer.writerow(csv_line)\n",
    "                #catch null values\n",
    "                except:\n",
    "                    #write timestamp with null values to csv\n",
    "                    csv_line = [time,'null','null','null','null']\n",
    "                    writer.writerow(csv_line)\n",
    "                    #print(csv_line)            \n",
    "    c.close()"
   ]
  },
  {
   "cell_type": "code",
   "execution_count": 13,
   "metadata": {},
   "outputs": [
    {
     "name": "stdout",
     "output_type": "stream",
     "text": [
      "vehiclePosition10.json\n",
      "vehiclePosition12.json\n",
      "vehiclePosition08.json\n",
      "vehiclePosition01.json\n",
      "vehiclePosition09.json\n",
      "vehiclePosition06.json\n",
      "vehiclePosition03.json\n",
      "vehiclePosition05.json\n",
      "vehiclePosition02.json\n",
      "vehiclePosition11.json\n",
      "vehiclePosition13.json\n",
      "vehiclePosition04.json\n",
      "vehiclePosition07.json\n"
     ]
    }
   ],
   "source": [
    "for filename in os.listdir('Data'):\n",
    "    if '.json' in filename:\n",
    "        print(filename)\n",
    "        input_f = os.path.join('Data', filename)\n",
    "        output_filename = filename.split(\".\")[0]+'.csv'\n",
    "        output_f = os.path.join('Data', output_filename)\n",
    "        json_to_csv(output_f, input_f)"
   ]
  }
 ],
 "metadata": {
  "kernelspec": {
   "display_name": "Python 3.8.10 ('race-charts-3Ukbqb5o')",
   "language": "python",
   "name": "python3"
  },
  "language_info": {
   "codemirror_mode": {
    "name": "ipython",
    "version": 3
   },
   "file_extension": ".py",
   "mimetype": "text/x-python",
   "name": "python",
   "nbconvert_exporter": "python",
   "pygments_lexer": "ipython3",
   "version": "3.8.10"
  },
  "vscode": {
   "interpreter": {
    "hash": "5088c1fd66889e515c1fc9f10310dd1dafb56e948a5069cc046f6ad2ef1ac8a3"
   }
  }
 },
 "nbformat": 4,
 "nbformat_minor": 4
}
