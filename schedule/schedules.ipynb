{
 "cells": [
  {
   "cell_type": "code",
   "execution_count": 75,
   "metadata": {},
   "outputs": [],
   "source": [
    "import gtfs_kit as gk\n",
    "import pandas as pd\n",
    "from pathlib import Path\n",
    "import matplotlib.pyplot as plt\n",
    "import numpy as np\n",
    "import funcs "
   ]
  },
  {
   "cell_type": "code",
   "execution_count": 3,
   "metadata": {},
   "outputs": [
    {
     "data": {
      "text/html": [
       "<div>\n",
       "<style scoped>\n",
       "    .dataframe tbody tr th:only-of-type {\n",
       "        vertical-align: middle;\n",
       "    }\n",
       "\n",
       "    .dataframe tbody tr th {\n",
       "        vertical-align: top;\n",
       "    }\n",
       "\n",
       "    .dataframe thead th {\n",
       "        text-align: right;\n",
       "    }\n",
       "</style>\n",
       "<table border=\"1\" class=\"dataframe\">\n",
       "  <thead>\n",
       "    <tr style=\"text-align: right;\">\n",
       "      <th></th>\n",
       "      <th>type</th>\n",
       "      <th>message</th>\n",
       "      <th>table</th>\n",
       "      <th>rows</th>\n",
       "    </tr>\n",
       "  </thead>\n",
       "  <tbody>\n",
       "    <tr>\n",
       "      <th>0</th>\n",
       "      <td>warning</td>\n",
       "      <td>Feed expired</td>\n",
       "      <td>calendar/calendar_dates</td>\n",
       "      <td>[]</td>\n",
       "    </tr>\n",
       "  </tbody>\n",
       "</table>\n",
       "</div>"
      ],
      "text/plain": [
       "      type       message                    table rows\n",
       "0  warning  Feed expired  calendar/calendar_dates   []"
      ]
     },
     "execution_count": 3,
     "metadata": {},
     "output_type": "execute_result"
    }
   ],
   "source": [
    "# Read gtfs3Sept.zip\n",
    "file3s = Path('./gtfs/gtfs3Sept.zip')\n",
    "feed3s = (gk.read_feed(file3s, dist_units='m'))\n",
    "feed3s.validate()"
   ]
  },
  {
   "cell_type": "code",
   "execution_count": 4,
   "metadata": {},
   "outputs": [
    {
     "data": {
      "text/html": [
       "<div>\n",
       "<style scoped>\n",
       "    .dataframe tbody tr th:only-of-type {\n",
       "        vertical-align: middle;\n",
       "    }\n",
       "\n",
       "    .dataframe tbody tr th {\n",
       "        vertical-align: top;\n",
       "    }\n",
       "\n",
       "    .dataframe thead th {\n",
       "        text-align: right;\n",
       "    }\n",
       "</style>\n",
       "<table border=\"1\" class=\"dataframe\">\n",
       "  <thead>\n",
       "    <tr style=\"text-align: right;\">\n",
       "      <th></th>\n",
       "      <th>type</th>\n",
       "      <th>message</th>\n",
       "      <th>table</th>\n",
       "      <th>rows</th>\n",
       "    </tr>\n",
       "  </thead>\n",
       "  <tbody>\n",
       "    <tr>\n",
       "      <th>0</th>\n",
       "      <td>warning</td>\n",
       "      <td>Feed expired</td>\n",
       "      <td>calendar/calendar_dates</td>\n",
       "      <td>[]</td>\n",
       "    </tr>\n",
       "  </tbody>\n",
       "</table>\n",
       "</div>"
      ],
      "text/plain": [
       "      type       message                    table rows\n",
       "0  warning  Feed expired  calendar/calendar_dates   []"
      ]
     },
     "execution_count": 4,
     "metadata": {},
     "output_type": "execute_result"
    }
   ],
   "source": [
    "# Read gtfs23Sept.zip\n",
    "file23s = Path('./gtfs/gtfs23Sept.zip')\n",
    "feed23s = (gk.read_feed(file23s, dist_units='m'))\n",
    "feed23s.validate()"
   ]
  },
  {
   "cell_type": "code",
   "execution_count": 4,
   "metadata": {},
   "outputs": [
    {
     "name": "stdout",
     "output_type": "stream",
     "text": [
      "['20210906', '20210907', '20210908', '20210909', '20210910', '20210911', '20210912']\n",
      "['20210913', '20210914', '20210915', '20210916', '20210917', '20210918', '20210919']\n",
      "[]\n",
      "['20210920', '20210921']\n",
      "['20210823', '20210824', '20210825', '20210826', '20210827', '20210828', '20210829', '20210830', '20210831', '20210901', '20210902', '20210903', '20210904', '20210905', '20210906', '20210907', '20210908', '20210909', '20210910', '20210911', '20210912', '20210913', '20210914', '20210915', '20210916', '20210917', '20210918', '20210919']\n"
     ]
    }
   ],
   "source": [
    "# Our data goes from 2021-09-05 to 2021-09-21\n",
    "print(gk.calendar.get_week(feed3s, 3))\n",
    "print(gk.calendar.get_week(feed3s, 4))\n",
    "print(gk.calendar.get_week(feed3s, 5))\n",
    "print(gk.calendar.get_week(feed23s, 1)[:2])\n",
    "print(gk.calendar.get_dates(feed3s))\n",
    "# As we can see, we need both feeds to get the whole schedule, so we'll merge them"
   ]
  },
  {
   "cell_type": "code",
   "execution_count": 5,
   "metadata": {},
   "outputs": [
    {
     "name": "stdout",
     "output_type": "stream",
     "text": [
      "{'3s': ['20210906', '20210907', '20210908', '20210909', '20210910', '20210911', '20210912', '20210913', '20210914', '20210915', '20210916', '20210917', '20210918', '20210919'], '23s': ['20210920', '20210921']}\n",
      "['2' '4' '5' '10' '1' '3' '6' '11' '12' '18' '20' '21' '22' '13' '23' '19'\n",
      " '25' '93' '27' '28' '29' '76' '32' '34' '35' '37' '39' '41' '43' '45'\n",
      " '36' '40' '44' '30' '47' '48' '49' '50' '15' '31' '52' '53' '26' '54'\n",
      " '55' '56' '57' '58' '59' '9' '60' '62' '63' '64' '17' '38' '65' '66' '98'\n",
      " '51' '68' '69' '70' '71' '72' '61' '42' '14' '16' '91' '73' '46' '89'\n",
      " '24' '74' '90' '33' '7' '75' '77' '8' '67' '95' '96' '97' '94' '78' '80'\n",
      " '79' '82' '81' '83' '85' '84' '86' '92' '87' '88']\n"
     ]
    }
   ],
   "source": [
    "# Get all dates matching our data\n",
    "our_dates = {}\n",
    "our_dates['3s'] = gk.calendar.get_week(feed3s, 3)\n",
    "our_dates['3s'].extend(gk.calendar.get_week(feed3s, 4))\n",
    "our_dates['23s'] = gk.calendar.get_week(feed23s, 1)[:2]\n",
    "print(our_dates)\n",
    "\n",
    "# Get all lines\n",
    "lines = {}\n",
    "lines['3s'] = gk.routes.get_routes(feed3s)\n",
    "lines['23s'] = gk.routes.get_routes(feed23s)\n",
    "print(lines['3s'].route_id.unique())"
   ]
  },
  {
   "cell_type": "code",
   "execution_count": 102,
   "metadata": {},
   "outputs": [
    {
     "name": "stdout",
     "output_type": "stream",
     "text": [
      "        route_id service_id             trip_id    trip_headsign  \\\n",
      "1787251        2  236270000  112949860236270000  GARE DE L'OUEST   \n",
      "1787252        2  236270000  112949860236270000  GARE DE L'OUEST   \n",
      "1787253        2  236270000  112949860236270000  GARE DE L'OUEST   \n",
      "1787254        2  236270000  112949860236270000  GARE DE L'OUEST   \n",
      "1787255        2  236270000  112949860236270000  GARE DE L'OUEST   \n",
      "...          ...        ...                 ...              ...   \n",
      "1781427        2  236270000  112949570236270000          STOCKEL   \n",
      "1781428        2  236270000  112949570236270000          STOCKEL   \n",
      "1781429        2  236270000  112949570236270000          STOCKEL   \n",
      "1781430        2  236270000  112949570236270000          STOCKEL   \n",
      "1781431        2  236270000  112949570236270000          STOCKEL   \n",
      "\n",
      "         direction_id block_id  shape_id arrival_time departure_time stop_id  \\\n",
      "1787251             1  8912837  001m0063     05:17:53       05:17:53    8151   \n",
      "1787252             1  8912837  001m0063     05:18:54       05:18:54    8141   \n",
      "1787253             1  8912837  001m0063     05:20:15       05:20:15    8131   \n",
      "1787254             1  8912837  001m0063     05:22:01       05:22:01    8121   \n",
      "1787255             1  8912837  001m0063     05:23:51       05:23:51    8111   \n",
      "...               ...      ...       ...          ...            ...     ...   \n",
      "1781427             0  8912848  001m0080     24:30:42       24:30:42    8122   \n",
      "1781428             0  8912848  001m0080     24:32:05       24:32:05    8132   \n",
      "1781429             0  8912848  001m0080     24:33:11       24:33:11    8142   \n",
      "1781430             0  8912848  001m0080     24:34:21       24:34:21    8152   \n",
      "1781431             0  8912848  001m0080     24:36:15       24:36:15    8161   \n",
      "\n",
      "         stop_sequence  pickup_type  drop_off_type      date  \n",
      "1787251              1            0              0  20210906  \n",
      "1787252              2            0              0  20210906  \n",
      "1787253              3            0              0  20210906  \n",
      "1787254              4            0              0  20210906  \n",
      "1787255              5            0              0  20210906  \n",
      "...                ...          ...            ...       ...  \n",
      "1781427             17            0              0  20210906  \n",
      "1781428             18            0              0  20210906  \n",
      "1781429             19            0              0  20210906  \n",
      "1781430             20            0              0  20210906  \n",
      "1781431             21            0              0  20210906  \n",
      "\n",
      "[7257 rows x 14 columns]\n"
     ]
    }
   ],
   "source": [
    "timetable_2 = gk.routes.build_route_timetable(feed3s, '2', dates=['20210906'])\n",
    "print(timetable_2)"
   ]
  },
  {
   "cell_type": "code",
   "execution_count": null,
   "metadata": {},
   "outputs": [],
   "source": [
    "# Map each line to its short_name by joining route_id and route_short_name in routes.txt\n",
    "short_names = {}\n",
    "short_names['3s'] = gk.routes.get_routes(feed3s)[['route_id', 'route_short_name']]\n",
    "short_names['23s'] = gk.routes.get_routes(feed23s)[['route_id', 'route_short_name']]"
   ]
  },
  {
   "cell_type": "code",
   "execution_count": 25,
   "metadata": {},
   "outputs": [
    {
     "ename": "KeyboardInterrupt",
     "evalue": "",
     "output_type": "error",
     "traceback": [
      "\u001b[0;31m---------------------------------------------------------------------------\u001b[0m",
      "\u001b[0;31mKeyboardInterrupt\u001b[0m                         Traceback (most recent call last)",
      "Cell \u001b[0;32mIn[25], line 7\u001b[0m\n\u001b[1;32m      4\u001b[0m \u001b[39mfor\u001b[39;00m date \u001b[39min\u001b[39;00m our_dates[key]:\n\u001b[1;32m      5\u001b[0m     \u001b[39m# Get timetable for route_id rid and day date\u001b[39;00m\n\u001b[1;32m      6\u001b[0m     \u001b[39mif\u001b[39;00m key \u001b[39m==\u001b[39m \u001b[39m'\u001b[39m\u001b[39m3s\u001b[39m\u001b[39m'\u001b[39m:\n\u001b[0;32m----> 7\u001b[0m         timetable \u001b[39m=\u001b[39m gk\u001b[39m.\u001b[39;49mroutes\u001b[39m.\u001b[39;49mbuild_route_timetable(feed3s, rid, [date])\n\u001b[1;32m      8\u001b[0m     \u001b[39melse\u001b[39;00m:\n\u001b[1;32m      9\u001b[0m         timetable \u001b[39m=\u001b[39m gk\u001b[39m.\u001b[39mroutes\u001b[39m.\u001b[39mbuild_route_timetable(feed23s, rid, [date])\n",
      "File \u001b[0;32m~/miniconda3/lib/python3.9/site-packages/gtfs_kit/routes.py:662\u001b[0m, in \u001b[0;36mbuild_route_timetable\u001b[0;34m(feed, route_id, dates)\u001b[0m\n\u001b[1;32m    660\u001b[0m t \u001b[39m=\u001b[39m pd\u001b[39m.\u001b[39mmerge(feed\u001b[39m.\u001b[39mtrips, feed\u001b[39m.\u001b[39mstop_times)\n\u001b[1;32m    661\u001b[0m t \u001b[39m=\u001b[39m t[t[\u001b[39m\"\u001b[39m\u001b[39mroute_id\u001b[39m\u001b[39m\"\u001b[39m] \u001b[39m==\u001b[39m route_id]\u001b[39m.\u001b[39mcopy()\n\u001b[0;32m--> 662\u001b[0m a \u001b[39m=\u001b[39m feed\u001b[39m.\u001b[39;49mcompute_trip_activity(dates)\n\u001b[1;32m    664\u001b[0m frames \u001b[39m=\u001b[39m []\n\u001b[1;32m    665\u001b[0m \u001b[39mfor\u001b[39;00m date \u001b[39min\u001b[39;00m dates:\n\u001b[1;32m    666\u001b[0m     \u001b[39m# Slice to trips active on date\u001b[39;00m\n",
      "File \u001b[0;32m~/miniconda3/lib/python3.9/site-packages/gtfs_kit/trips.py:133\u001b[0m, in \u001b[0;36mcompute_trip_activity\u001b[0;34m(feed, dates)\u001b[0m\n\u001b[1;32m    131\u001b[0m f \u001b[39m=\u001b[39m feed\u001b[39m.\u001b[39mtrips\u001b[39m.\u001b[39mcopy()\n\u001b[1;32m    132\u001b[0m \u001b[39mfor\u001b[39;00m date \u001b[39min\u001b[39;00m dates:\n\u001b[0;32m--> 133\u001b[0m     f[date] \u001b[39m=\u001b[39m f[\u001b[39m\"\u001b[39;49m\u001b[39mtrip_id\u001b[39;49m\u001b[39m\"\u001b[39;49m]\u001b[39m.\u001b[39;49mmap(\n\u001b[1;32m    134\u001b[0m         \u001b[39mlambda\u001b[39;49;00m trip_id: \u001b[39mint\u001b[39;49m(feed\u001b[39m.\u001b[39;49mis_active_trip(trip_id, date))\n\u001b[1;32m    135\u001b[0m     )\n\u001b[1;32m    136\u001b[0m \u001b[39mreturn\u001b[39;00m f[[\u001b[39m\"\u001b[39m\u001b[39mtrip_id\u001b[39m\u001b[39m\"\u001b[39m] \u001b[39m+\u001b[39m \u001b[39mlist\u001b[39m(dates)]\n",
      "File \u001b[0;32m~/miniconda3/lib/python3.9/site-packages/pandas/core/series.py:4539\u001b[0m, in \u001b[0;36mSeries.map\u001b[0;34m(self, arg, na_action)\u001b[0m\n\u001b[1;32m   4460\u001b[0m \u001b[39mdef\u001b[39;00m \u001b[39mmap\u001b[39m(\n\u001b[1;32m   4461\u001b[0m     \u001b[39mself\u001b[39m,\n\u001b[1;32m   4462\u001b[0m     arg: Callable \u001b[39m|\u001b[39m Mapping \u001b[39m|\u001b[39m Series,\n\u001b[1;32m   4463\u001b[0m     na_action: Literal[\u001b[39m\"\u001b[39m\u001b[39mignore\u001b[39m\u001b[39m\"\u001b[39m] \u001b[39m|\u001b[39m \u001b[39mNone\u001b[39;00m \u001b[39m=\u001b[39m \u001b[39mNone\u001b[39;00m,\n\u001b[1;32m   4464\u001b[0m ) \u001b[39m-\u001b[39m\u001b[39m>\u001b[39m Series:\n\u001b[1;32m   4465\u001b[0m     \u001b[39m\"\"\"\u001b[39;00m\n\u001b[1;32m   4466\u001b[0m \u001b[39m    Map values of Series according to an input mapping or function.\u001b[39;00m\n\u001b[1;32m   4467\u001b[0m \n\u001b[0;32m   (...)\u001b[0m\n\u001b[1;32m   4537\u001b[0m \u001b[39m    dtype: object\u001b[39;00m\n\u001b[1;32m   4538\u001b[0m \u001b[39m    \"\"\"\u001b[39;00m\n\u001b[0;32m-> 4539\u001b[0m     new_values \u001b[39m=\u001b[39m \u001b[39mself\u001b[39;49m\u001b[39m.\u001b[39;49m_map_values(arg, na_action\u001b[39m=\u001b[39;49mna_action)\n\u001b[1;32m   4540\u001b[0m     \u001b[39mreturn\u001b[39;00m \u001b[39mself\u001b[39m\u001b[39m.\u001b[39m_constructor(new_values, index\u001b[39m=\u001b[39m\u001b[39mself\u001b[39m\u001b[39m.\u001b[39mindex)\u001b[39m.\u001b[39m__finalize__(\n\u001b[1;32m   4541\u001b[0m         \u001b[39mself\u001b[39m, method\u001b[39m=\u001b[39m\u001b[39m\"\u001b[39m\u001b[39mmap\u001b[39m\u001b[39m\"\u001b[39m\n\u001b[1;32m   4542\u001b[0m     )\n",
      "File \u001b[0;32m~/miniconda3/lib/python3.9/site-packages/pandas/core/base.py:890\u001b[0m, in \u001b[0;36mIndexOpsMixin._map_values\u001b[0;34m(self, mapper, na_action)\u001b[0m\n\u001b[1;32m    887\u001b[0m         \u001b[39mraise\u001b[39;00m \u001b[39mValueError\u001b[39;00m(msg)\n\u001b[1;32m    889\u001b[0m \u001b[39m# mapper is a function\u001b[39;00m\n\u001b[0;32m--> 890\u001b[0m new_values \u001b[39m=\u001b[39m map_f(values, mapper)\n\u001b[1;32m    892\u001b[0m \u001b[39mreturn\u001b[39;00m new_values\n",
      "File \u001b[0;32m~/miniconda3/lib/python3.9/site-packages/pandas/_libs/lib.pyx:2918\u001b[0m, in \u001b[0;36mpandas._libs.lib.map_infer\u001b[0;34m()\u001b[0m\n",
      "File \u001b[0;32m~/miniconda3/lib/python3.9/site-packages/gtfs_kit/trips.py:134\u001b[0m, in \u001b[0;36mcompute_trip_activity.<locals>.<lambda>\u001b[0;34m(trip_id)\u001b[0m\n\u001b[1;32m    131\u001b[0m f \u001b[39m=\u001b[39m feed\u001b[39m.\u001b[39mtrips\u001b[39m.\u001b[39mcopy()\n\u001b[1;32m    132\u001b[0m \u001b[39mfor\u001b[39;00m date \u001b[39min\u001b[39;00m dates:\n\u001b[1;32m    133\u001b[0m     f[date] \u001b[39m=\u001b[39m f[\u001b[39m\"\u001b[39m\u001b[39mtrip_id\u001b[39m\u001b[39m\"\u001b[39m]\u001b[39m.\u001b[39mmap(\n\u001b[0;32m--> 134\u001b[0m         \u001b[39mlambda\u001b[39;00m trip_id: \u001b[39mint\u001b[39m(feed\u001b[39m.\u001b[39;49mis_active_trip(trip_id, date))\n\u001b[1;32m    135\u001b[0m     )\n\u001b[1;32m    136\u001b[0m \u001b[39mreturn\u001b[39;00m f[[\u001b[39m\"\u001b[39m\u001b[39mtrip_id\u001b[39m\u001b[39m\"\u001b[39m] \u001b[39m+\u001b[39m \u001b[39mlist\u001b[39m(dates)]\n",
      "File \u001b[0;32m~/miniconda3/lib/python3.9/site-packages/gtfs_kit/trips.py:56\u001b[0m, in \u001b[0;36mis_active_trip\u001b[0;34m(feed, trip_id, date)\u001b[0m\n\u001b[1;32m     53\u001b[0m \u001b[39mif\u001b[39;00m service \u001b[39min\u001b[39;00m cali\u001b[39m.\u001b[39mindex:\n\u001b[1;32m     54\u001b[0m     weekday_str \u001b[39m=\u001b[39m hp\u001b[39m.\u001b[39mweekday_to_str(hp\u001b[39m.\u001b[39mdatestr_to_date(date)\u001b[39m.\u001b[39mweekday())\n\u001b[1;32m     55\u001b[0m     \u001b[39mif\u001b[39;00m (\n\u001b[0;32m---> 56\u001b[0m         cali\u001b[39m.\u001b[39;49mat[service, \u001b[39m\"\u001b[39;49m\u001b[39mstart_date\u001b[39;49m\u001b[39m\"\u001b[39;49m] \u001b[39m<\u001b[39m\u001b[39m=\u001b[39m date \u001b[39m<\u001b[39m\u001b[39m=\u001b[39m cali\u001b[39m.\u001b[39mat[service, \u001b[39m\"\u001b[39m\u001b[39mend_date\u001b[39m\u001b[39m\"\u001b[39m]\n\u001b[1;32m     57\u001b[0m         \u001b[39mand\u001b[39;00m cali\u001b[39m.\u001b[39mat[service, weekday_str] \u001b[39m==\u001b[39m \u001b[39m1\u001b[39m\n\u001b[1;32m     58\u001b[0m     ):\n\u001b[1;32m     59\u001b[0m         \u001b[39mreturn\u001b[39;00m \u001b[39mTrue\u001b[39;00m\n\u001b[1;32m     60\u001b[0m     \u001b[39melse\u001b[39;00m:\n",
      "File \u001b[0;32m~/miniconda3/lib/python3.9/site-packages/pandas/core/indexing.py:2431\u001b[0m, in \u001b[0;36m_AtIndexer.__getitem__\u001b[0;34m(self, key)\u001b[0m\n\u001b[1;32m   2428\u001b[0m         \u001b[39mraise\u001b[39;00m \u001b[39mValueError\u001b[39;00m(\u001b[39m\"\u001b[39m\u001b[39mInvalid call for scalar access (getting)!\u001b[39m\u001b[39m\"\u001b[39m)\n\u001b[1;32m   2429\u001b[0m     \u001b[39mreturn\u001b[39;00m \u001b[39mself\u001b[39m\u001b[39m.\u001b[39mobj\u001b[39m.\u001b[39mloc[key]\n\u001b[0;32m-> 2431\u001b[0m \u001b[39mreturn\u001b[39;00m \u001b[39msuper\u001b[39;49m()\u001b[39m.\u001b[39;49m\u001b[39m__getitem__\u001b[39;49m(key)\n",
      "File \u001b[0;32m~/miniconda3/lib/python3.9/site-packages/pandas/core/indexing.py:2382\u001b[0m, in \u001b[0;36m_ScalarAccessIndexer.__getitem__\u001b[0;34m(self, key)\u001b[0m\n\u001b[1;32m   2379\u001b[0m         \u001b[39mraise\u001b[39;00m \u001b[39mValueError\u001b[39;00m(\u001b[39m\"\u001b[39m\u001b[39mInvalid call for scalar access (getting)!\u001b[39m\u001b[39m\"\u001b[39m)\n\u001b[1;32m   2381\u001b[0m key \u001b[39m=\u001b[39m \u001b[39mself\u001b[39m\u001b[39m.\u001b[39m_convert_key(key)\n\u001b[0;32m-> 2382\u001b[0m \u001b[39mreturn\u001b[39;00m \u001b[39mself\u001b[39;49m\u001b[39m.\u001b[39;49mobj\u001b[39m.\u001b[39;49m_get_value(\u001b[39m*\u001b[39;49mkey, takeable\u001b[39m=\u001b[39;49m\u001b[39mself\u001b[39;49m\u001b[39m.\u001b[39;49m_takeable)\n",
      "File \u001b[0;32m~/miniconda3/lib/python3.9/site-packages/pandas/core/frame.py:3922\u001b[0m, in \u001b[0;36mDataFrame._get_value\u001b[0;34m(self, index, col, takeable)\u001b[0m\n\u001b[1;32m   3917\u001b[0m \u001b[39mif\u001b[39;00m \u001b[39mnot\u001b[39;00m \u001b[39misinstance\u001b[39m(\u001b[39mself\u001b[39m\u001b[39m.\u001b[39mindex, MultiIndex):\n\u001b[1;32m   3918\u001b[0m     \u001b[39m# CategoricalIndex: Trying to use the engine fastpath may give incorrect\u001b[39;00m\n\u001b[1;32m   3919\u001b[0m     \u001b[39m#  results if our categories are integers that dont match our codes\u001b[39;00m\n\u001b[1;32m   3920\u001b[0m     \u001b[39m# IntervalIndex: IntervalTree has no get_loc\u001b[39;00m\n\u001b[1;32m   3921\u001b[0m     row \u001b[39m=\u001b[39m \u001b[39mself\u001b[39m\u001b[39m.\u001b[39mindex\u001b[39m.\u001b[39mget_loc(index)\n\u001b[0;32m-> 3922\u001b[0m     \u001b[39mreturn\u001b[39;00m series\u001b[39m.\u001b[39;49m_values[row]\n\u001b[1;32m   3924\u001b[0m \u001b[39m# For MultiIndex going through engine effectively restricts us to\u001b[39;00m\n\u001b[1;32m   3925\u001b[0m \u001b[39m#  same-length tuples; see test_get_set_value_no_partial_indexing\u001b[39;00m\n\u001b[1;32m   3926\u001b[0m loc \u001b[39m=\u001b[39m engine\u001b[39m.\u001b[39mget_loc(index)\n",
      "File \u001b[0;32m~/miniconda3/lib/python3.9/site-packages/pandas/core/series.py:708\u001b[0m, in \u001b[0;36mSeries._values\u001b[0;34m(self)\u001b[0m\n\u001b[1;32m    668\u001b[0m     \u001b[39m\"\"\"\u001b[39;00m\n\u001b[1;32m    669\u001b[0m \u001b[39m    Return Series as ndarray or ndarray-like depending on the dtype.\u001b[39;00m\n\u001b[1;32m    670\u001b[0m \n\u001b[0;32m   (...)\u001b[0m\n\u001b[1;32m    704\u001b[0m \u001b[39m           '2013-01-03T05:00:00.000000000'], dtype='datetime64[ns]')\u001b[39;00m\n\u001b[1;32m    705\u001b[0m \u001b[39m    \"\"\"\u001b[39;00m\n\u001b[1;32m    706\u001b[0m     \u001b[39mreturn\u001b[39;00m \u001b[39mself\u001b[39m\u001b[39m.\u001b[39m_mgr\u001b[39m.\u001b[39mexternal_values()\n\u001b[0;32m--> 708\u001b[0m \u001b[39m@property\u001b[39m\n\u001b[1;32m    709\u001b[0m \u001b[39mdef\u001b[39;00m \u001b[39m_values\u001b[39m(\u001b[39mself\u001b[39m):\n\u001b[1;32m    710\u001b[0m     \u001b[39m\"\"\"\u001b[39;00m\n\u001b[1;32m    711\u001b[0m \u001b[39m    Return the internal repr of this data (defined by Block.interval_values).\u001b[39;00m\n\u001b[1;32m    712\u001b[0m \u001b[39m    This are the values as stored in the Block (ndarray or ExtensionArray\u001b[39;00m\n\u001b[0;32m   (...)\u001b[0m\n\u001b[1;32m    738\u001b[0m \n\u001b[1;32m    739\u001b[0m \u001b[39m    \"\"\"\u001b[39;00m\n\u001b[1;32m    740\u001b[0m     \u001b[39mreturn\u001b[39;00m \u001b[39mself\u001b[39m\u001b[39m.\u001b[39m_mgr\u001b[39m.\u001b[39minternal_values()\n",
      "\u001b[0;31mKeyboardInterrupt\u001b[0m: "
     ]
    }
   ],
   "source": [
    "for key in lines:\n",
    "    rids = lines[key].route_id.unique()\n",
    "    for rid in rids:\n",
    "        for date in our_dates[key]:\n",
    "            # Get timetable for route_id rid and day date\n",
    "            if key == '3s':\n",
    "                timetable = process_line(feed3s, rid, [date])\n",
    "            else:\n",
    "                timetable = process_line(feed23s, rid, [date])\n",
    "            # Save to csv\n",
    "            timetable.to_csv(f'./schedules_day/schedule_{short_names[key][rid]}_{date}.csv')"
   ]
  },
  {
   "cell_type": "code",
   "execution_count": 76,
   "metadata": {},
   "outputs": [
    {
     "name": "stderr",
     "output_type": "stream",
     "text": [
      "/tmp/ipykernel_8654/1390144314.py:72: SettingWithCopyWarning: \n",
      "A value is trying to be set on a copy of a slice from a DataFrame.\n",
      "Try using .loc[row_indexer,col_indexer] = value instead\n",
      "\n",
      "See the caveats in the documentation: https://pandas.pydata.org/pandas-docs/stable/user_guide/indexing.html#returning-a-view-versus-a-copy\n",
      "  reduced_timetable['headway'] = date_diff(series, series2)\n",
      "/tmp/ipykernel_8654/1390144314.py:74: SettingWithCopyWarning: \n",
      "A value is trying to be set on a copy of a slice from a DataFrame.\n",
      "Try using .loc[row_indexer,col_indexer] = value instead\n",
      "\n",
      "See the caveats in the documentation: https://pandas.pydata.org/pandas-docs/stable/user_guide/indexing.html#returning-a-view-versus-a-copy\n",
      "  reduced_timetable['candidate'] = reduced_timetable.apply(identify, axis=1)\n"
     ]
    },
    {
     "name": "stdout",
     "output_type": "stream",
     "text": [
      "        trip_headsign  direction_id stop_id departure_time  headway  \\\n",
      "1449247         DELTA             0   1597B       05:55:30     -999   \n",
      "1442407         DELTA             0   1597B       06:15:30     1200   \n",
      "1442668         DELTA             0   1597B       06:30:30      900   \n",
      "1443007         DELTA             0   1597B       06:47:08      998   \n",
      "1448969         DELTA             0   1597B       06:56:08      540   \n",
      "...               ...           ...     ...            ...      ...   \n",
      "1444643  DE BROUCKERE             1    6447       23:31:00      660   \n",
      "1445401  DE BROUCKERE             1    6447       23:43:00      720   \n",
      "1448121  DE BROUCKERE             1    6447       23:55:00      720   \n",
      "1446041  DE BROUCKERE             1    6447       24:07:00      720   \n",
      "1443365  DE BROUCKERE             1    6447       24:19:00      720   \n",
      "\n",
      "           candidate        class  \n",
      "1449247  punctuality  punctuality  \n",
      "1442407  punctuality  punctuality  \n",
      "1442668  punctuality  punctuality  \n",
      "1443007  punctuality  punctuality  \n",
      "1448969   regularity   regularity  \n",
      "...              ...          ...  \n",
      "1444643   regularity   regularity  \n",
      "1445401  punctuality  punctuality  \n",
      "1448121  punctuality  punctuality  \n",
      "1446041  punctuality  punctuality  \n",
      "1443365  punctuality  punctuality  \n",
      "\n",
      "[7120 rows x 7 columns]\n"
     ]
    },
    {
     "name": "stderr",
     "output_type": "stream",
     "text": [
      "/tmp/ipykernel_8654/1390144314.py:55: SettingWithCopyWarning: \n",
      "A value is trying to be set on a copy of a slice from a DataFrame.\n",
      "Try using .loc[row_indexer,col_indexer] = value instead\n",
      "\n",
      "See the caveats in the documentation: https://pandas.pydata.org/pandas-docs/stable/user_guide/indexing.html#returning-a-view-versus-a-copy\n",
      "  df['class'] = class_\n"
     ]
    },
    {
     "data": {
      "image/png": "[encoded data removed]",
      "text/plain": [
       "<Figure size 640x480 with 1 Axes>"
      ]
     },
     "metadata": {},
     "output_type": "display_data"
    }
   ],
   "source": [
    "tt = process_line('65', feed3s, ['20210906'])\n",
    "print(tt)\n",
    "# get some stop_id from the timetable\n",
    "stop_id = tt.stop_id.unique()[0]\n",
    "show_headways(stop_id, tt, direction_id=1)"
   ]
  },
  {
   "cell_type": "code",
   "execution_count": 77,
   "metadata": {},
   "outputs": [
    {
     "data": {
      "image/png": "[encoded data removed]",
      "text/plain": [
       "<Figure size 640x480 with 1 Axes>"
      ]
     },
     "metadata": {},
     "output_type": "display_data"
    }
   ],
   "source": [
    "show_headways('2596', tt, direction_id=1) # 2296, 6444"
   ]
  },
  {
   "cell_type": "code",
   "execution_count": 78,
   "metadata": {},
   "outputs": [
    {
     "data": {
      "image/png": "[encoded data removed]",
      "text/plain": [
       "<Figure size 640x480 with 1 Axes>"
      ]
     },
     "metadata": {},
     "output_type": "display_data"
    }
   ],
   "source": [
    "show_headways('2596', tt, direction_id=0)"
   ]
  },
  {
   "cell_type": "code",
   "execution_count": 63,
   "metadata": {},
   "outputs": [
    {
     "name": "stdout",
     "output_type": "stream",
     "text": [
      "going to delta:\n",
      "['1598B' '2301' '2351' '2595' '2596' '2948' '2963' '2964B' '2967B' '3521'\n",
      " '3525' '3556' '3557' '3558' '3559' '3562B' '3567' '3570' '3572' '5612'\n",
      " '6447']\n",
      "going to de broukere:\n",
      "['1597B' '1734' '2296' '2397' '2596' '2928' '3502' '3503' '3506' '3508'\n",
      " '3510B' '3514' '3515' '3517' '3518B' '3520' '5407' '5611' '6444']\n",
      "all:\n",
      "['1597B' '1734' '2296' '2397' '2596' '2928' '3502' '3503' '3506' '3508'\n",
      " '3510B' '3514' '3515' '3517' '3518B' '3520' '5407' '5611' '6444' '1598B'\n",
      " '2301' '2351' '2595' '2948' '2963' '2964B' '2967B' '3521' '3525' '3556'\n",
      " '3557' '3558' '3559' '3562B' '3567' '3570' '3572' '5612' '6447']\n",
      "Empty DataFrame\n",
      "Columns: [trip_headsign, direction_id, stop_id, departure_time, headway, candidate, class]\n",
      "Index: []\n"
     ]
    }
   ],
   "source": [
    "print('going to delta:')\n",
    "print(tt.loc[tt['direction_id']==1]['stop_id'].unique())\n",
    "print('going to de broukere:')\n",
    "print(tt.loc[tt['direction_id']==0]['stop_id'].unique())\n",
    "print('all:')\n",
    "print(tt.stop_id.unique())\n",
    "print(tt.loc[tt['stop_id'] == '2720F'])\n",
    "# save tt\n",
    "# tt.to_csv('71_0911.csv')"
   ]
  }
 ],
 "metadata": {
  "kernelspec": {
   "display_name": "base",
   "language": "python",
   "name": "python3"
  },
  "language_info": {
   "codemirror_mode": {
    "name": "ipython",
    "version": 3
   },
   "file_extension": ".py",
   "mimetype": "text/x-python",
   "name": "python",
   "nbconvert_exporter": "python",
   "pygments_lexer": "ipython3",
   "version": "3.9.12"
  },
  "orig_nbformat": 4,
  "vscode": {
   "interpreter": {
    "hash": "7ff63645dd16f55240e07095d3c46f4fac3f89ef16802cfaceca713f6cf38dfb"
   }
  }
 },
 "nbformat": 4,
 "nbformat_minor": 2
}
