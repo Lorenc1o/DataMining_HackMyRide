{
 "cells": [
  {
   "cell_type": "code",
   "execution_count": 1,
   "metadata": {},
   "outputs": [],
   "source": [
    "import gtfs_kit as gk\n",
    "import pandas as pd\n",
    "from pathlib import Path\n",
    "import matplotlib.pyplot as plt\n",
    "import numpy as np\n",
    "from funcs import process_line, show_headways, compute_scheduled_headways\n",
    "import warnings\n",
    "warnings.filterwarnings('ignore')"
   ]
  },
  {
   "cell_type": "code",
   "execution_count": 3,
   "metadata": {},
   "outputs": [
    {
     "data": {
      "text/html": [
       "<div>\n",
       "<style scoped>\n",
       "    .dataframe tbody tr th:only-of-type {\n",
       "        vertical-align: middle;\n",
       "    }\n",
       "\n",
       "    .dataframe tbody tr th {\n",
       "        vertical-align: top;\n",
       "    }\n",
       "\n",
       "    .dataframe thead th {\n",
       "        text-align: right;\n",
       "    }\n",
       "</style>\n",
       "<table border=\"1\" class=\"dataframe\">\n",
       "  <thead>\n",
       "    <tr style=\"text-align: right;\">\n",
       "      <th></th>\n",
       "      <th>type</th>\n",
       "      <th>message</th>\n",
       "      <th>table</th>\n",
       "      <th>rows</th>\n",
       "    </tr>\n",
       "  </thead>\n",
       "  <tbody>\n",
       "    <tr>\n",
       "      <th>0</th>\n",
       "      <td>warning</td>\n",
       "      <td>Feed expired</td>\n",
       "      <td>calendar/calendar_dates</td>\n",
       "      <td>[]</td>\n",
       "    </tr>\n",
       "  </tbody>\n",
       "</table>\n",
       "</div>"
      ],
      "text/plain": [
       "      type       message                    table rows\n",
       "0  warning  Feed expired  calendar/calendar_dates   []"
      ]
     },
     "execution_count": 3,
     "metadata": {},
     "output_type": "execute_result"
    }
   ],
   "source": [
    "# Read gtfs3Sept.zip\n",
    "file3s = Path('./gtfs/gtfs3Sept.zip')\n",
    "feed3s = (gk.read_feed(file3s, dist_units='m'))\n",
    "feed3s.validate()"
   ]
  },
  {
   "cell_type": "code",
   "execution_count": 4,
   "metadata": {},
   "outputs": [
    {
     "data": {
      "text/html": [
       "<div>\n",
       "<style scoped>\n",
       "    .dataframe tbody tr th:only-of-type {\n",
       "        vertical-align: middle;\n",
       "    }\n",
       "\n",
       "    .dataframe tbody tr th {\n",
       "        vertical-align: top;\n",
       "    }\n",
       "\n",
       "    .dataframe thead th {\n",
       "        text-align: right;\n",
       "    }\n",
       "</style>\n",
       "<table border=\"1\" class=\"dataframe\">\n",
       "  <thead>\n",
       "    <tr style=\"text-align: right;\">\n",
       "      <th></th>\n",
       "      <th>type</th>\n",
       "      <th>message</th>\n",
       "      <th>table</th>\n",
       "      <th>rows</th>\n",
       "    </tr>\n",
       "  </thead>\n",
       "  <tbody>\n",
       "    <tr>\n",
       "      <th>0</th>\n",
       "      <td>warning</td>\n",
       "      <td>Feed expired</td>\n",
       "      <td>calendar/calendar_dates</td>\n",
       "      <td>[]</td>\n",
       "    </tr>\n",
       "  </tbody>\n",
       "</table>\n",
       "</div>"
      ],
      "text/plain": [
       "      type       message                    table rows\n",
       "0  warning  Feed expired  calendar/calendar_dates   []"
      ]
     },
     "execution_count": 4,
     "metadata": {},
     "output_type": "execute_result"
    }
   ],
   "source": [
    "# Read gtfs23Sept.zip\n",
    "file23s = Path('./gtfs/gtfs23Sept.zip')\n",
    "feed23s = (gk.read_feed(file23s, dist_units='m'))\n",
    "feed23s.validate()"
   ]
  },
  {
   "cell_type": "code",
   "execution_count": 11,
   "metadata": {},
   "outputs": [
    {
     "name": "stdout",
     "output_type": "stream",
     "text": [
      "['20210823', '20210824', '20210825', '20210826', '20210827', '20210828', '20210829']\n",
      "['20210830', '20210831', '20210901', '20210902', '20210903', '20210904', '20210905']\n",
      "['20210906', '20210907', '20210908', '20210909', '20210910', '20210911', '20210912']\n",
      "['20210913', '20210914', '20210915', '20210916', '20210917', '20210918', '20210919']\n",
      "[]\n",
      "['20210920', '20210921']\n",
      "20210920\n"
     ]
    }
   ],
   "source": [
    "# Our data goes from 2021-09-05 to 2021-09-21\n",
    "print(gk.calendar.get_week(feed3s, 1))\n",
    "print(gk.calendar.get_week(feed3s, 2))\n",
    "print(gk.calendar.get_week(feed3s, 3))\n",
    "print(gk.calendar.get_week(feed3s, 4))\n",
    "print(gk.calendar.get_week(feed3s, 5))\n",
    "print(gk.calendar.get_week(feed23s, 1)[:2])\n",
    "print(min(gk.calendar.get_dates(feed23s)))\n",
    "# As we can see, we need both feeds to get the whole schedule, so we'll merge them"
   ]
  },
  {
   "cell_type": "code",
   "execution_count": 5,
   "metadata": {},
   "outputs": [
    {
     "name": "stdout",
     "output_type": "stream",
     "text": [
      "{'3s': ['20210906', '20210907', '20210908', '20210909', '20210910', '20210911', '20210912', '20210913', '20210914', '20210915', '20210916', '20210917', '20210918', '20210919'], '23s': ['20210920', '20210921']}\n",
      "['2' '4' '5' '10' '1' '3' '6' '11' '12' '18' '20' '21' '22' '13' '23' '19'\n",
      " '25' '93' '27' '28' '29' '76' '32' '34' '35' '37' '39' '41' '43' '45'\n",
      " '36' '40' '44' '30' '47' '48' '49' '50' '15' '31' '52' '53' '26' '54'\n",
      " '55' '56' '57' '58' '59' '9' '60' '62' '63' '64' '17' '38' '65' '66' '98'\n",
      " '51' '68' '69' '70' '71' '72' '61' '42' '14' '16' '91' '73' '46' '89'\n",
      " '24' '74' '90' '33' '7' '75' '77' '8' '67' '95' '96' '97' '94' '78' '80'\n",
      " '79' '82' '81' '83' '85' '84' '86' '92' '87' '88']\n",
      "['44', '4', '29', '48', '74', '66', '76', '81', '65', '61', '83', '82', '58', '70', '53', '87', '57', '86', '34', '50', '17', '59', '33', '19', '60', '42', '36', '43', '6', '89', '51', '75', '28', '54', '69', '55', '88', '25', '21', '46', '72', '56', '9', '79', '39', '95', '97', '62', '5', '63', '41', '14', '98', '8', '13', '80', '93', '2', '47', '45', '77', '27', '49', '71', '20', '92', '38', '37', '3', '78', '12', '7', '64', '1']\n"
     ]
    }
   ],
   "source": [
    "# Get all dates matching our data\n",
    "our_dates = {}\n",
    "our_dates['3s'] = gk.calendar.get_week(feed3s, 3)\n",
    "our_dates['3s'].extend(gk.calendar.get_week(feed3s, 4))\n",
    "our_dates['23s'] = gk.calendar.get_week(feed23s, 1)[:2]\n",
    "print(our_dates)\n",
    "\n",
    "# Get all lines\n",
    "lines = {}\n",
    "lines['3s'] = gk.routes.get_routes(feed3s)\n",
    "lines['23s'] = gk.routes.get_routes(feed23s)\n",
    "print(lines['3s'].route_id.unique())\n",
    "\n",
    "# Map each line to its short_name by joining route_id and route_short_name in routes.txt\n",
    "short_names = {}\n",
    "short_names['3s'] = gk.routes.get_routes(feed3s)[['route_id', 'route_short_name']].reset_index(drop=True)\n",
    "short_names['23s'] = gk.routes.get_routes(feed23s)[['route_id', 'route_short_name']].reset_index(drop=True)\n",
    "\n",
    "# Get the inverted map: short_name -> route_id\n",
    "short_names_inv = {}\n",
    "short_names_inv['3s'] = short_names['3s'].set_index('route_short_name').to_dict()['route_id']\n",
    "short_names_inv['23s'] = short_names['23s'].set_index('route_short_name').to_dict()['route_id']\n",
    "\n",
    "# Get all short_names from real data\n",
    "short_names_real = [44, 4, 29, 48, 74, 66, 76, 81, 65, 61, 83, 82, 58, 70, 53, 87, 57, 86, 34, 50, 17, 59, 33, 19, 60, 42, 36, 43, 6, 89, 51, 75, 28, 54, 69, 55, 88, 25, 21, 46, 72, 56, 9, 79, 39, 95, 97, 62, 5, 63, 41, 14, 98, 8, 13, 80, 93, 2, 47, 45, 77, 27, 49, 71, 20, 92, 38, 37, 3, 78, 12, 7, 64, 1]\n",
    "# transform to str\n",
    "short_names_real = [str(x) for x in short_names_real]\n",
    "\n",
    "print(short_names_real)"
   ]
  },
  {
   "cell_type": "code",
   "execution_count": 7,
   "metadata": {},
   "outputs": [
    {
     "name": "stdout",
     "output_type": "stream",
     "text": [
      "['1' '2' '3' '4' '5' '6' '7' '8' '9' '12' '13' '14' '17' '19' '20' '21'\n",
      " '25' '27' '28' '29' '33' '34' '36' '37' '38' '39' '41' '42' '43' '44'\n",
      " '45' '46' '47' '48' '49' '50' '51' '52' '53' '54' '55' '56' '57' '58'\n",
      " '59' '60' '61' '62' '63' '64' '65' '66' '69' '70' '71' '72' '74' '75'\n",
      " '76' '77' '78' '79' '80' '81' '82' '83' '86' '87' '88' '89' '92' '93'\n",
      " '95' '97' '98' 'M1' 'T51' 'T81' 'T82' 'N04' 'N05' 'N06' 'N08' 'N09' 'N10'\n",
      " 'N11' 'N12' 'N13' 'N16' 'N18']\n"
     ]
    }
   ],
   "source": [
    "print(short_names['23s'].route_short_name.unique())"
   ]
  },
  {
   "cell_type": "code",
   "execution_count": 11,
   "metadata": {},
   "outputs": [
    {
     "name": "stdout",
     "output_type": "stream",
     "text": [
      "44\n",
      "4\n",
      "29\n",
      "48\n",
      "74\n",
      "66\n",
      "76\n",
      "81\n",
      "65\n",
      "61\n",
      "83\n",
      "82\n",
      "58\n",
      "70\n",
      "53\n",
      "87\n",
      "57\n",
      "86\n",
      "34\n",
      "50\n",
      "17\n",
      "59\n",
      "33\n",
      "19\n",
      "60\n",
      "42\n",
      "36\n",
      "43\n",
      "6\n",
      "89\n",
      "51\n",
      "75\n",
      "28\n",
      "54\n",
      "69\n",
      "55\n",
      "88\n",
      "25\n",
      "21\n",
      "46\n",
      "72\n",
      "56\n",
      "9\n",
      "79\n",
      "39\n",
      "95\n",
      "97\n",
      "62\n",
      "5\n",
      "63\n",
      "41\n",
      "14\n",
      "98\n",
      "8\n",
      "13\n",
      "80\n",
      "93\n",
      "2\n",
      "47\n",
      "45\n",
      "77\n",
      "27\n",
      "49\n",
      "71\n",
      "20\n",
      "92\n",
      "38\n",
      "37\n",
      "3\n",
      "78\n",
      "12\n",
      "7\n",
      "64\n",
      "1\n"
     ]
    }
   ],
   "source": [
    "schedules_lines = {}\n",
    "for line_sn in short_names_real:\n",
    "    print(line_sn)\n",
    "    schedules_lines[line_sn] = pd.read_csv(f'./schedules_line/schedule_{line_sn}.csv')\n",
    "    # for each short_name, get the route_id for each feed if it exists\n",
    "    if line_sn in short_names['3s'].route_short_name.unique():\n",
    "        rid3s = short_names_inv['3s'][line_sn]\n",
    "        for date in our_dates['3s']:\n",
    "            timetable = process_line(feed3s, rid3s, [date])\n",
    "            timetable['date'] = date\n",
    "            if line_sn in schedules_lines:\n",
    "                schedules_lines[line_sn] = pd.concat([schedules_lines[line_sn], timetable])\n",
    "            else:\n",
    "                schedules_lines[line_sn] = timetable\n",
    "    if line_sn in short_names['23s'].route_short_name.unique():\n",
    "        rid23s = short_names_inv['23s'][line_sn]\n",
    "        for date in our_dates['23s']:\n",
    "            timetable = process_line(feed23s, rid23s, [date])\n",
    "            timetable['date'] = date\n",
    "            if line_sn in schedules_lines:\n",
    "                schedules_lines[line_sn] = pd.concat([schedules_lines[line_sn], timetable])\n",
    "            else:\n",
    "                schedules_lines[line_sn] = timetable\n",
    "                \n",
    "    # save it to csv\n",
    "    schedules_lines[line_sn].to_csv(f'./schedules_line/schedule_{line_sn}.csv', index=False)"
   ]
  },
  {
   "cell_type": "code",
   "execution_count": 7,
   "metadata": {},
   "outputs": [
    {
     "name": "stdout",
     "output_type": "stream",
     "text": [
      "44\n",
      "4\n",
      "29\n",
      "48\n",
      "74\n",
      "66\n",
      "76\n",
      "81\n",
      "65\n",
      "61\n",
      "83\n",
      "82\n",
      "58\n",
      "70\n",
      "53\n",
      "87\n",
      "57\n",
      "86\n",
      "34\n",
      "50\n",
      "17\n",
      "59\n",
      "33\n",
      "19\n",
      "60\n",
      "42\n",
      "36\n",
      "43\n",
      "6\n",
      "89\n",
      "51\n",
      "75\n",
      "28\n",
      "54\n",
      "69\n",
      "55\n",
      "88\n",
      "25\n",
      "21\n",
      "46\n",
      "72\n",
      "56\n",
      "9\n",
      "79\n",
      "39\n",
      "95\n",
      "97\n",
      "62\n",
      "5\n",
      "63\n",
      "41\n",
      "14\n",
      "98\n",
      "8\n",
      "13\n",
      "80\n",
      "93\n",
      "2\n",
      "47\n",
      "45\n",
      "77\n",
      "27\n",
      "49\n",
      "71\n",
      "20\n",
      "92\n",
      "38\n",
      "37\n",
      "3\n",
      "78\n",
      "12\n",
      "7\n",
      "64\n",
      "1\n"
     ]
    }
   ],
   "source": [
    "for line_sn in short_names_real:\n",
    "    print(line_sn)\n",
    "    # Read the schedule\n",
    "    schedule = pd.read_csv(f'./schedules_line/schedule_{line_sn}.csv')\n",
    "    # Get headways for each line\n",
    "    headways = compute_scheduled_headways(schedule)\n",
    "    # save headways to csv\n",
    "    headways.to_csv(f'./headways_line/headways_{line_sn}.csv', index=False)"
   ]
  },
  {
   "cell_type": "code",
   "execution_count": 12,
   "metadata": {},
   "outputs": [],
   "source": [
    "# read all schedules and add the line number to the dataframe\n",
    "for line_sn in short_names_real:\n",
    "    schedules_lines[line_sn] = pd.read_csv(f'./schedules_line/schedule_{line_sn}.csv')\n",
    "    schedules_lines[line_sn]['line'] = line_sn\n",
    "    # save it again\n",
    "    schedules_lines[line_sn].to_csv(f'./schedules_line/schedule_{line_sn}.csv', index=False)"
   ]
  },
  {
   "cell_type": "code",
   "execution_count": 13,
   "metadata": {},
   "outputs": [],
   "source": [
    "# read all headways and add the line number to the dataframe\n",
    "for line_sn in short_names_real:\n",
    "    headways = pd.read_csv(f'./headways_line/headways_{line_sn}.csv')\n",
    "    headways['line'] = line_sn\n",
    "    # save it again\n",
    "    headways.to_csv(f'./headways_line/headways_{line_sn}.csv', index=False)"
   ]
  },
  {
   "cell_type": "code",
   "execution_count": 20,
   "metadata": {},
   "outputs": [
    {
     "name": "stdout",
     "output_type": "stream",
     "text": [
      "         trip_headsign  direction_id stop_id departure_time  headway  \\\n",
      "950320     SAINTE-ANNE             0    1233       06:18:00        0   \n",
      "950282  R.P. SOUVERAIN             0    1233       06:34:00      960   \n",
      "950184     SAINTE-ANNE             0    1233       06:48:00      840   \n",
      "950975  R.P. SOUVERAIN             0    1233       06:53:00      300   \n",
      "950993     SAINTE-ANNE             0    1233       06:59:00      360   \n",
      "...                ...           ...     ...            ...      ...   \n",
      "946234  PORTE DE NAMUR             1    6432       23:05:00     1200   \n",
      "946074  PORTE DE NAMUR             1    6432       23:23:00     1080   \n",
      "946056  PORTE DE NAMUR             1    6432       23:43:00     1200   \n",
      "946038  PORTE DE NAMUR             1    6432       24:03:00     1200   \n",
      "946020  PORTE DE NAMUR             1    6432       24:23:00     1200   \n",
      "\n",
      "              class  \n",
      "950320  punctuality  \n",
      "950282  punctuality  \n",
      "950184  punctuality  \n",
      "950975   regularity  \n",
      "950993   regularity  \n",
      "...             ...  \n",
      "946234  punctuality  \n",
      "946074  punctuality  \n",
      "946056  punctuality  \n",
      "946038  punctuality  \n",
      "946020  punctuality  \n",
      "\n",
      "[5343 rows x 6 columns]\n"
     ]
    }
   ],
   "source": [
    "# Let's try to visualize the headways for a line\n",
    "tt = process_line(feed3s, '34', ['20210906'])\n",
    "print(tt)\n",
    "# get some stop_id from the timetable\n",
    "stop_id = tt.stop_id.unique()\n",
    "#show_headways(stop_id, tt, direction_id=1)"
   ]
  },
  {
   "cell_type": "code",
   "execution_count": 30,
   "metadata": {},
   "outputs": [
    {
     "name": "stdout",
     "output_type": "stream",
     "text": [
      "['1233' '1706' '1712' '1713' '1714' '1715' '1716' '1718' '1719' '1720'\n",
      " '1728' '1729' '1731' '1733' '1824' '2058' '2291' '2725' '2727' '2728'\n",
      " '6433' '1278' '1751' '1756' '1757' '1758' '1760' '1762' '1764' '1769'\n",
      " '1776' '1777' '1779' '1983' '2009' '2290' '2752' '2753' '4367' '4952'\n",
      " '6432']\n"
     ]
    },
    {
     "data": {
      "image/png": "[encoded data removed]",
      "text/plain": [
       "<Figure size 640x480 with 1 Axes>"
      ]
     },
     "metadata": {},
     "output_type": "display_data"
    }
   ],
   "source": [
    "print(stop_id)\n",
    "show_headways('2753', tt, direction_id=1) # 2296, 6444"
   ]
  },
  {
   "cell_type": "code",
   "execution_count": 9,
   "metadata": {},
   "outputs": [
    {
     "data": {
      "image/png": "[encoded data removed]",
      "text/plain": [
       "<Figure size 640x480 with 1 Axes>"
      ]
     },
     "metadata": {},
     "output_type": "display_data"
    }
   ],
   "source": [
    "show_headways('1597', tt, direction_id=0)"
   ]
  },
  {
   "cell_type": "code",
   "execution_count": 6,
   "metadata": {},
   "outputs": [
    {
     "name": "stdout",
     "output_type": "stream",
     "text": [
      "['1', '5', '29', '38', '63', '65', '66', '71', '89']\n"
     ]
    }
   ],
   "source": [
    "# Now we are going to reduce the number of lines to 10, by selecting those that\n",
    "# go through GARE CENTRALE\n",
    "\n",
    "# from stops.txt get all stop_id with stop_name == 'GARE CENTRALE'\n",
    "stops = pd.read_csv('gtfs23Sept/stops.txt')\n",
    "stops = stops.loc[stops['stop_name'] == 'GARE CENTRALE']['stop_id']\n",
    "\n",
    "# read stop_times.txt and get all trip_id that pass through GARE CENTRALE\n",
    "stop_times = pd.read_csv('gtfs23Sept/stop_times.txt')\n",
    "stop_times = stop_times.loc[stop_times['stop_id'].isin(stops)]['trip_id']\n",
    "\n",
    "# read trips.txt and get all route_id that have a trip_id in stop_times\n",
    "trips = pd.read_csv('gtfs23Sept/trips.txt')\n",
    "trips = trips.loc[trips['trip_id'].isin(stop_times)]['route_id'].unique()\n",
    "\n",
    "# read the routes.txt and map the route_id to the short_route_name\n",
    "lines_GC = pd.read_csv('gtfs23Sept/routes.txt')\n",
    "lines_GC = lines_GC.loc[lines_GC['route_id'].isin(trips)]['route_short_name'].unique()\n",
    "\n",
    "filtered_lines = []\n",
    "for line in lines_GC:\n",
    "    if 'N' not in line:\n",
    "        filtered_lines.append(line)\n",
    "\n",
    "# line 52 is not in the real data, so we remove it\n",
    "filtered_lines = [x for x in filtered_lines if x in short_names_real]\n",
    "print(filtered_lines)\n"
   ]
  },
  {
   "cell_type": "code",
   "execution_count": 7,
   "metadata": {},
   "outputs": [],
   "source": [
    "# Now, we are merging the schedules of the 10 lines that go through GARE CENTRALE\n",
    "# as well as the headways\n",
    "for line_sn in filtered_lines:\n",
    "    schedule = pd.read_csv(f'schedules_line/schedule_{line_sn}.csv')\n",
    "    headways = pd.read_csv(f'headways_line/headways_{line_sn}.csv')\n",
    "    if 'schedules' in locals():\n",
    "        schedules = pd.concat([schedules, schedule])\n",
    "        headways_all = pd.concat([headways_all, headways])\n",
    "    else:\n",
    "        schedules = schedule\n",
    "        headways_all = headways\n",
    "\n",
    "# save the schedules and headways to csv\n",
    "schedules.to_csv('./schedules_filtered.csv', index=False)\n",
    "headways_all.to_csv('./headways_filtered.csv', index=False)"
   ]
  },
  {
   "cell_type": "code",
   "execution_count": 30,
   "metadata": {},
   "outputs": [],
   "source": [
    "# We are also going to reduce the gtfs files to only the lines that go through GARE CENTRALE\n",
    "# and save them to a new folder called gtfs_filtered\n",
    "\n",
    "# First step: get all the stop_id that are in the schedules_filtered.csv and reduce stops.txt\n",
    "stops = schedules.stop_id.unique()\n",
    "stops_gtfs = pd.read_csv('gtfs23Sept/stops.txt')\n",
    "stop_ids = pd.DataFrame(stops_gtfs['stop_id'])\n",
    "#       remove the last character of the stop_id if it is a letter and convert to int\n",
    "stop_ids['stop_id'] = stop_ids['stop_id'].apply(lambda x: x[:-1] if x[-1].isalpha() else x)\n",
    "stop_ids['stop_id'] = stop_ids['stop_id'].astype('int')\n",
    "#       we want those stop_id that are in the schedules_filtered.csv\n",
    "stops_gtfs = stops_gtfs.loc[stop_ids.stop_id.isin(stops)]\n",
    "stops_gtfs.to_csv('gtfs_filtered/stops.txt', index=False)\n",
    "\n",
    "# Second step: get all the route_short_name whose route_id is in the schedules_filtered.csv\n",
    "# and reduce routes.txt\n",
    "lines = schedules.line.unique()\n",
    "lines = [str(x) for x in lines]\n",
    "lines_gtfs = pd.read_csv('gtfs23Sept/routes.txt')\n",
    "lines_gtfs = lines_gtfs.loc[lines_gtfs['route_short_name'].isin(lines)]\n",
    "lines_gtfs.to_csv('gtfs_filtered/routes.txt', index=False)\n",
    "\n",
    "# Third step: get all route_id from lines_gtfs and reduce trips.txt\n",
    "lines_gtfs = pd.read_csv('gtfs_filtered/routes.txt')\n",
    "lines_gtfs = lines_gtfs['route_id'].unique()\n",
    "trips_gtfs = pd.read_csv('gtfs23Sept/trips.txt')\n",
    "trips_gtfs = trips_gtfs.loc[trips_gtfs['route_id'].isin(lines_gtfs)]\n",
    "trips_gtfs.to_csv('gtfs_filtered/trips.txt', index=False)\n",
    "\n",
    "# Forth step: get all trip_id from trips_gtfs and reduce stop_times.txt\n",
    "trip_ids = trips_gtfs['trip_id'].unique()\n",
    "stop_times_gtfs = pd.read_csv('gtfs23Sept/stop_times.txt')\n",
    "stop_times_gtfs = stop_times_gtfs.loc[stop_times_gtfs['trip_id'].isin(trip_ids)]\n",
    "stop_times_gtfs.to_csv('gtfs_filtered/stop_times.txt', index=False)\n",
    "\n",
    "# Fifth step: get all service_id from trips_gtfs and reduce calendar.txt and calendar_dates.txt\n",
    "service_ids = trips_gtfs['service_id'].unique()\n",
    "calendar_gtfs = pd.read_csv('gtfs23Sept/calendar.txt')\n",
    "calendar_gtfs = calendar_gtfs.loc[calendar_gtfs['service_id'].isin(service_ids)]\n",
    "calendar_gtfs.to_csv('gtfs_filtered/calendar.txt', index=False)\n",
    "calendar_dates_gtfs = pd.read_csv('gtfs23Sept/calendar_dates.txt')\n",
    "calendar_dates_gtfs = calendar_dates_gtfs.loc[calendar_dates_gtfs['service_id'].isin(service_ids)]\n",
    "calendar_dates_gtfs.to_csv('gtfs_filtered/calendar_dates.txt', index=False)"
   ]
  },
  {
   "cell_type": "code",
   "execution_count": 32,
   "metadata": {},
   "outputs": [
    {
     "name": "stdout",
     "output_type": "stream",
     "text": [
      "['6447' '2301' '2595' '2594' '1566' '1567' '1568' '3219' '1569B' '1570'\n",
      " '1571' '3358' '3359' '3062' '6442' '1820' '2296' '6445' '3072' '3353'\n",
      " '3354' '1508' '1509' '2680' '1512' '1513' '1514' '1515' '1516' '6451'\n",
      " '1518' '1519' '1520' '1521' '1522' '3899' '1529' '1379' '1540' '1525'\n",
      " '1526' '1527' '1528' '1552' '1553' '1554' '1550' '1385' '1578' '3910'\n",
      " '1557' '1558' '1559' '1560' '1561' '6454' '1563' '3216' '1565' '3257'\n",
      " '3263B' '6648' '3259B' '3260' '3633C' '3221' '3222' '3223B' '3228' '4594'\n",
      " '1117' '4076' '1943' '1968' '1969' '1970' '1971' '1972' '1973' '5255'\n",
      " '1975' '1976' '1977' '1986' '6112' '1980' '1981' '1983' '4367B' '1776'\n",
      " '6432' '1124' '3567' '3323' '5256' '6443' '3502' '3503' '6433' '1729'\n",
      " '1233' '1906' '1909' '1916' '1917' '1918' '1919' '1920' '1921' '1942'\n",
      " '1910' '3122' '1903' '1912' '1913' '1914' '1915' '2788' '2303' '3320B'\n",
      " '1178' '4595' '3261' '1894' '3347' '1510' '1273' '1402B' '1419' '1403'\n",
      " '3251' '3266' '2247' '3761' '3762' '3763' '3766' '3765' '3274' '3285'\n",
      " '3401' '3702' '3240' '3704' '3705' '5308' '2250' '3707' '3217' '3218'\n",
      " '2920' '3042' '9702' '9727' '9728' '9701' '2888' '2899' '2905' '2895'\n",
      " '2988' '2292B' '2908' '3176' '5299' '3355' '9060' '6435' '6359' '6410'\n",
      " '2796' '2839' '6364B' '2100' '2102' '3414' '2067' '6210' '2975' '2976'\n",
      " '2977' '2990' '2997' '2980' '3361' '3362' '6081B' '5361' '1283' '2294B'\n",
      " '2987' '2986B' '2991' '5362' '5048' '3304' '3305' '3306' '3307' '2996'\n",
      " '2926' '2915' '2916' '2917' '3299' '2051' '3451' '3412' '2101' '6303B'\n",
      " '2792' '2795' '6411' '5735' '6438' '6308' '2345' '2346' '2174' '3449'\n",
      " '3470' '3448B' '3450' '3459' '3460' '3272' '3273' '3286B' '3288' '3284'\n",
      " '3661' '3210B' '1535' '3402' '3403' '3417' '3419' '3411' '2173' '3408'\n",
      " '3409' '3410' '3521' '3556' '1598B' '3557' '3558' '3559' '3525' '2351'\n",
      " '3562B' '3570' '3572' '5612' '2963' '2964B' '2967B' '2948' '2596' '6444'\n",
      " '1734' '3518B' '3506' '2928' '5611' '3508' '3517' '3510B' '2397' '5407'\n",
      " '3514' '3515' '1597B' '3520' '2781' '2783' '2779' '2768' '2750' '1257'\n",
      " '2536' '1259' '1260' '1483' '2648' '1204' '1205' '1206' '1207' '1208'\n",
      " '2582' '2585' '1261' '1203' '2748' '2754' '2776' '2784' '2782' '1555'\n",
      " '8733' '8742' '8292' '8282' '8272' '8012' '8022' '8032' '8042' '8052'\n",
      " '8062' '8072' '8082' '8092' '8102' '8112' '8122' '8132' '8142' '8152'\n",
      " '8161' '8162' '8641' '8652' '8662' '8672' '8682' '8692' '8702' '8712'\n",
      " '8722' '8732' '8202' '8212' '8222' '8232' '8242' '8252' '8262' '8642'\n",
      " '8261' '8251' '8241' '8231' '8221' '8211' '8201' '8071' '8061' '8051'\n",
      " '8041' '8031' '8021' '8011' '8271' '8281' '8291' '8741' '8731' '8721'\n",
      " '8711' '8701' '8691' '8681' '8671' '8661' '8651' '8151' '8141' '8131'\n",
      " '8121' '8111' '8101' '8091' '8081' '8743' 8162 8151 8141 8131 8121 8111\n",
      " 8101 8091 8081 8071 8061 8051 8041 8031 8021 8011 8271 8281 8291 8741\n",
      " 8731 8231 8221 8211 8201 8721 8711 8701 8691 8681 8671 8661 8651 8641\n",
      " 8261 8251 8241 8642 8652 8662 8672 8682 8692 8702 8712 8722 8732 8742\n",
      " 8292 8282 8272 8012 8022 8032 8042 8052 8062 8072 8202 8212 8222 8232\n",
      " 8242 8252 8262 8733 8082 8092 8102 8112 8122 8132 8142 8152 8161 8743]\n"
     ]
    }
   ],
   "source": [
    "print(stop_times_gtfs.stop_id)"
   ]
  }
 ],
 "metadata": {
  "kernelspec": {
   "display_name": "base",
   "language": "python",
   "name": "python3"
  },
  "language_info": {
   "codemirror_mode": {
    "name": "ipython",
    "version": 3
   },
   "file_extension": ".py",
   "mimetype": "text/x-python",
   "name": "python",
   "nbconvert_exporter": "python",
   "pygments_lexer": "ipython3",
   "version": "3.9.12 (main, Apr  5 2022, 06:56:58) \n[GCC 7.5.0]"
  },
  "orig_nbformat": 4,
  "vscode": {
   "interpreter": {
    "hash": "7ff63645dd16f55240e07095d3c46f4fac3f89ef16802cfaceca713f6cf38dfb"
   }
  }
 },
 "nbformat": 4,
 "nbformat_minor": 2
}
