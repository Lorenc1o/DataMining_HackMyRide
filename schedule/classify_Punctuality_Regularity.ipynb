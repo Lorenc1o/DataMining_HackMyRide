{
 "cells": [
  {
   "cell_type": "code",
   "execution_count": 71,
   "metadata": {},
   "outputs": [],
   "source": [
    "import pandas as pd\n",
    "import matplotlib.pyplot as plt\n",
    "from sqlalchemy import create_engine\n",
    "import psycopg2 as db"
   ]
  },
  {
   "cell_type": "code",
   "execution_count": 46,
   "metadata": {},
   "outputs": [],
   "source": [
    "conn = db.connect(host=\"localhost\", user=\"postgres\", password=\"Master\", dbname=\"gis_db\", port=\"5433\")\n",
    "\n"
   ]
  },
  {
   "cell_type": "code",
   "execution_count": 57,
   "metadata": {},
   "outputs": [
    {
     "name": "stderr",
     "output_type": "stream",
     "text": [
      "C:\\Users\\User\\AppData\\Local\\Temp\\ipykernel_8704\\1081960356.py:1: UserWarning: pandas only supports SQLAlchemy connectable (engine/connection) or database string URI or sqlite3 DBAPI2 connection. Other DBAPI2 objects are not tested. Please consider using SQLAlchemy.\n",
      "  df = pandas.read_sql(\"SELECT stop_id, departure_time FROM stop_times WHERE trip_id='112387248235954071'\", conn)\n"
     ]
    }
   ],
   "source": [
    "df = pandas.read_sql(\"SELECT stop_id, departure_time FROM stop_times WHERE trip_id='112387248235954071'\", conn)"
   ]
  },
  {
   "cell_type": "code",
   "execution_count": 62,
   "metadata": {},
   "outputs": [
    {
     "name": "stderr",
     "output_type": "stream",
     "text": [
      "C:\\Users\\User\\AppData\\Local\\Temp\\ipykernel_8704\\2676567492.py:1: UserWarning: pandas only supports SQLAlchemy connectable (engine/connection) or database string URI or sqlite3 DBAPI2 connection. Other DBAPI2 objects are not tested. Please consider using SQLAlchemy.\n",
      "  df = pandas.read_sql(\"Select date, service_id,trip_id,stop_id,departure_time,departure_time - LAG(departure_time) OVER (ORDER BY date) AS diffrence_time FROM Stop_times inner JOIN trips using (trip_id) inner join calendar_dates using (service_id) WHERE date>'2021-09-02' and date<'2021-09-18' GROUP BY service_id,stop_id,departure_time,trip_id, date ORDER BY date ASC\", conn)\n"
     ]
    }
   ],
   "source": [
    "df = pandas.read_sql(\"Select date, service_id,trip_id,stop_id,departure_time,departure_time - LAG(departure_time) OVER (ORDER BY date) AS diffrence_time FROM Stop_times inner JOIN trips using (trip_id) inner join calendar_dates using (service_id) WHERE date>'2021-09-02' and date<'2021-09-18' GROUP BY service_id,stop_id,departure_time,trip_id, date ORDER BY date ASC\", conn)"
   ]
  },
  {
   "cell_type": "code",
   "execution_count": null,
   "metadata": {},
   "outputs": [],
   "source": [
    "df['minutes'] = df['diffrence_time'] / pd.Timedelta(minutes=1)\n"
   ]
  },
  {
   "cell_type": "code",
   "execution_count": 78,
   "metadata": {},
   "outputs": [
    {
     "data": {
      "text/html": [
       "<div>\n",
       "<style scoped>\n",
       "    .dataframe tbody tr th:only-of-type {\n",
       "        vertical-align: middle;\n",
       "    }\n",
       "\n",
       "    .dataframe tbody tr th {\n",
       "        vertical-align: top;\n",
       "    }\n",
       "\n",
       "    .dataframe thead th {\n",
       "        text-align: right;\n",
       "    }\n",
       "</style>\n",
       "<table border=\"1\" class=\"dataframe\">\n",
       "  <thead>\n",
       "    <tr style=\"text-align: right;\">\n",
       "      <th></th>\n",
       "      <th>date</th>\n",
       "      <th>service_id</th>\n",
       "      <th>trip_id</th>\n",
       "      <th>stop_id</th>\n",
       "      <th>departure_time</th>\n",
       "      <th>diffrence_time</th>\n",
       "      <th>minutes</th>\n",
       "      <th>Regularity_Punctuality</th>\n",
       "    </tr>\n",
       "  </thead>\n",
       "  <tbody>\n",
       "    <tr>\n",
       "      <th>0</th>\n",
       "      <td>2021-09-03</td>\n",
       "      <td>236786030</td>\n",
       "      <td>113122487236786030</td>\n",
       "      <td>1063</td>\n",
       "      <td>0 days 05:20:00</td>\n",
       "      <td>NaT</td>\n",
       "      <td>NaN</td>\n",
       "      <td>-1</td>\n",
       "    </tr>\n",
       "    <tr>\n",
       "      <th>1</th>\n",
       "      <td>2021-09-03</td>\n",
       "      <td>236786030</td>\n",
       "      <td>113122489236786030</td>\n",
       "      <td>1063</td>\n",
       "      <td>0 days 05:40:00</td>\n",
       "      <td>0 days 00:20:00</td>\n",
       "      <td>20.0</td>\n",
       "      <td>0</td>\n",
       "    </tr>\n",
       "    <tr>\n",
       "      <th>2</th>\n",
       "      <td>2021-09-03</td>\n",
       "      <td>236786030</td>\n",
       "      <td>113122490236786030</td>\n",
       "      <td>1063</td>\n",
       "      <td>0 days 05:55:00</td>\n",
       "      <td>0 days 00:15:00</td>\n",
       "      <td>15.0</td>\n",
       "      <td>0</td>\n",
       "    </tr>\n",
       "    <tr>\n",
       "      <th>3</th>\n",
       "      <td>2021-09-03</td>\n",
       "      <td>236786030</td>\n",
       "      <td>113122491236786030</td>\n",
       "      <td>1063</td>\n",
       "      <td>0 days 06:11:00</td>\n",
       "      <td>0 days 00:16:00</td>\n",
       "      <td>16.0</td>\n",
       "      <td>0</td>\n",
       "    </tr>\n",
       "    <tr>\n",
       "      <th>4</th>\n",
       "      <td>2021-09-03</td>\n",
       "      <td>236786030</td>\n",
       "      <td>113122492236786030</td>\n",
       "      <td>1063</td>\n",
       "      <td>0 days 06:23:00</td>\n",
       "      <td>0 days 00:12:00</td>\n",
       "      <td>12.0</td>\n",
       "      <td>1</td>\n",
       "    </tr>\n",
       "  </tbody>\n",
       "</table>\n",
       "</div>"
      ],
      "text/plain": [
       "         date service_id             trip_id stop_id  departure_time  \\\n",
       "0  2021-09-03  236786030  113122487236786030    1063 0 days 05:20:00   \n",
       "1  2021-09-03  236786030  113122489236786030    1063 0 days 05:40:00   \n",
       "2  2021-09-03  236786030  113122490236786030    1063 0 days 05:55:00   \n",
       "3  2021-09-03  236786030  113122491236786030    1063 0 days 06:11:00   \n",
       "4  2021-09-03  236786030  113122492236786030    1063 0 days 06:23:00   \n",
       "\n",
       "   diffrence_time  minutes Regularity_Punctuality  \n",
       "0             NaT      NaN                     -1  \n",
       "1 0 days 00:20:00     20.0                      0  \n",
       "2 0 days 00:15:00     15.0                      0  \n",
       "3 0 days 00:16:00     16.0                      0  \n",
       "4 0 days 00:12:00     12.0                      1  "
      ]
     },
     "execution_count": 78,
     "metadata": {},
     "output_type": "execute_result"
    }
   ],
   "source": [
    "\n",
    "def my_func(row):\n",
    "    if row['minutes'] > 12:\n",
    "        val = '0'\n",
    "    elif row['minutes'] >0 and row['minutes'] <=12:\n",
    "        val = '1'\n",
    "    else:\n",
    "        val = '-1'\n",
    "    return val\n",
    "\n",
    "df['Regularity_Punctuality'] = df.apply(my_func, axis=1)\n",
    "df.head()"
   ]
  }
 ],
 "metadata": {
  "kernelspec": {
   "display_name": "Python 3.11.0 64-bit",
   "language": "python",
   "name": "python3"
  },
  "language_info": {
   "codemirror_mode": {
    "name": "ipython",
    "version": 3
   },
   "file_extension": ".py",
   "mimetype": "text/x-python",
   "name": "python",
   "nbconvert_exporter": "python",
   "pygments_lexer": "ipython3",
   "version": "3.11.0 (main, Oct 24 2022, 18:26:48) [MSC v.1933 64 bit (AMD64)]"
  },
  "orig_nbformat": 4,
  "vscode": {
   "interpreter": {
    "hash": "ebfc0a8d552866b0d59eba665220a57de3bc06f3ac643b8bef38dd8f66781fdd"
   }
  }
 },
 "nbformat": 4,
 "nbformat_minor": 2
}
