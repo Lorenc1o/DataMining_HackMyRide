{
 "cells": [
  {
   "cell_type": "code",
   "execution_count": 19,
   "metadata": {},
   "outputs": [],
   "source": [
    "import pandas as pd\n",
    "import json\n",
    "import os\n",
    "import datetime\n",
    "import csv\n",
    "import numpy as np"
   ]
  },
  {
   "cell_type": "code",
   "execution_count": 120,
   "metadata": {},
   "outputs": [],
   "source": [
    "file_path = 'Data/vehiclePosition/'\n",
    "filename = 'Line65_vehiclePosition.csv'"
   ]
  },
  {
   "cell_type": "code",
   "execution_count": 101,
   "metadata": {},
   "outputs": [],
   "source": [
    "stops_file = 'Data/gtfs3Sept/stops.txt'"
   ]
  },
  {
   "cell_type": "code",
   "execution_count": 121,
   "metadata": {},
   "outputs": [],
   "source": [
    "df = pd.read_csv(file_path+filename)"
   ]
  },
  {
   "cell_type": "code",
   "execution_count": 102,
   "metadata": {},
   "outputs": [],
   "source": [
    "stops = pd.read_csv(stops_file)"
   ]
  },
  {
   "cell_type": "markdown",
   "metadata": {},
   "source": [
    "Converting Time to Normal Format"
   ]
  },
  {
   "cell_type": "code",
   "execution_count": 32,
   "metadata": {},
   "outputs": [
    {
     "data": {
      "text/html": [
       "<div>\n",
       "<style scoped>\n",
       "    .dataframe tbody tr th:only-of-type {\n",
       "        vertical-align: middle;\n",
       "    }\n",
       "\n",
       "    .dataframe tbody tr th {\n",
       "        vertical-align: top;\n",
       "    }\n",
       "\n",
       "    .dataframe thead th {\n",
       "        text-align: right;\n",
       "    }\n",
       "</style>\n",
       "<table border=\"1\" class=\"dataframe\">\n",
       "  <thead>\n",
       "    <tr style=\"text-align: right;\">\n",
       "      <th></th>\n",
       "      <th>time</th>\n",
       "      <th>lineID</th>\n",
       "      <th>directionID</th>\n",
       "      <th>distancefromPoint</th>\n",
       "      <th>pointID</th>\n",
       "    </tr>\n",
       "  </thead>\n",
       "  <tbody>\n",
       "    <tr>\n",
       "      <th>1365654</th>\n",
       "      <td>2021-09-07 09:14:22.644000</td>\n",
       "      <td>97.0</td>\n",
       "      <td>9972.0</td>\n",
       "      <td>86.0</td>\n",
       "      <td>5916.0</td>\n",
       "    </tr>\n",
       "    <tr>\n",
       "      <th>1365655</th>\n",
       "      <td>2021-09-07 09:14:22.644000</td>\n",
       "      <td>97.0</td>\n",
       "      <td>9972.0</td>\n",
       "      <td>191.0</td>\n",
       "      <td>6314.0</td>\n",
       "    </tr>\n",
       "    <tr>\n",
       "      <th>1365656</th>\n",
       "      <td>2021-09-07 09:14:22.644000</td>\n",
       "      <td>97.0</td>\n",
       "      <td>6361.0</td>\n",
       "      <td>0.0</td>\n",
       "      <td>2708.0</td>\n",
       "    </tr>\n",
       "    <tr>\n",
       "      <th>1365657</th>\n",
       "      <td>2021-09-07 09:14:22.644000</td>\n",
       "      <td>98.0</td>\n",
       "      <td>2382.0</td>\n",
       "      <td>60.0</td>\n",
       "      <td>5953.0</td>\n",
       "    </tr>\n",
       "    <tr>\n",
       "      <th>1365658</th>\n",
       "      <td>2021-09-07 09:14:22.644000</td>\n",
       "      <td>98.0</td>\n",
       "      <td>2382.0</td>\n",
       "      <td>0.0</td>\n",
       "      <td>1951.0</td>\n",
       "    </tr>\n",
       "    <tr>\n",
       "      <th>1365659</th>\n",
       "      <td>2021-09-07 09:14:22.644000</td>\n",
       "      <td>98.0</td>\n",
       "      <td>1951.0</td>\n",
       "      <td>0.0</td>\n",
       "      <td>2384.0</td>\n",
       "    </tr>\n",
       "    <tr>\n",
       "      <th>1365660</th>\n",
       "      <td>2021-09-07 09:14:22.644000</td>\n",
       "      <td>98.0</td>\n",
       "      <td>2382.0</td>\n",
       "      <td>0.0</td>\n",
       "      <td>2382.0</td>\n",
       "    </tr>\n",
       "    <tr>\n",
       "      <th>1365661</th>\n",
       "      <td>2021-09-07 09:14:22.644000</td>\n",
       "      <td>98.0</td>\n",
       "      <td>2382.0</td>\n",
       "      <td>130.0</td>\n",
       "      <td>2610.0</td>\n",
       "    </tr>\n",
       "    <tr>\n",
       "      <th>1365662</th>\n",
       "      <td>2021-09-07 09:14:22.644000</td>\n",
       "      <td>98.0</td>\n",
       "      <td>1951.0</td>\n",
       "      <td>34.0</td>\n",
       "      <td>2660.0</td>\n",
       "    </tr>\n",
       "    <tr>\n",
       "      <th>1365663</th>\n",
       "      <td>2021-09-07 09:14:22.644000</td>\n",
       "      <td>98.0</td>\n",
       "      <td>2382.0</td>\n",
       "      <td>0.0</td>\n",
       "      <td>2382.0</td>\n",
       "    </tr>\n",
       "  </tbody>\n",
       "</table>\n",
       "</div>"
      ],
      "text/plain": [
       "                               time  lineID  directionID  distancefromPoint  \\\n",
       "1365654  2021-09-07 09:14:22.644000    97.0       9972.0               86.0   \n",
       "1365655  2021-09-07 09:14:22.644000    97.0       9972.0              191.0   \n",
       "1365656  2021-09-07 09:14:22.644000    97.0       6361.0                0.0   \n",
       "1365657  2021-09-07 09:14:22.644000    98.0       2382.0               60.0   \n",
       "1365658  2021-09-07 09:14:22.644000    98.0       2382.0                0.0   \n",
       "1365659  2021-09-07 09:14:22.644000    98.0       1951.0                0.0   \n",
       "1365660  2021-09-07 09:14:22.644000    98.0       2382.0                0.0   \n",
       "1365661  2021-09-07 09:14:22.644000    98.0       2382.0              130.0   \n",
       "1365662  2021-09-07 09:14:22.644000    98.0       1951.0               34.0   \n",
       "1365663  2021-09-07 09:14:22.644000    98.0       2382.0                0.0   \n",
       "\n",
       "         pointID  \n",
       "1365654   5916.0  \n",
       "1365655   6314.0  \n",
       "1365656   2708.0  \n",
       "1365657   5953.0  \n",
       "1365658   1951.0  \n",
       "1365659   2384.0  \n",
       "1365660   2382.0  \n",
       "1365661   2610.0  \n",
       "1365662   2660.0  \n",
       "1365663   2382.0  "
      ]
     },
     "execution_count": 32,
     "metadata": {},
     "output_type": "execute_result"
    }
   ],
   "source": [
    "df.tail(10)"
   ]
  },
  {
   "cell_type": "code",
   "execution_count": 20,
   "metadata": {},
   "outputs": [],
   "source": [
    "df['time'] = df['time'].apply(lambda t: datetime.datetime.fromtimestamp(t/1000).strftime('%Y-%m-%d %H:%M:%S.%f'))"
   ]
  },
  {
   "cell_type": "code",
   "execution_count": 25,
   "metadata": {},
   "outputs": [],
   "source": [
    "df.to_csv(file_path+'vehiclePosition01_test.csv', index=False)"
   ]
  },
  {
   "cell_type": "markdown",
   "metadata": {},
   "source": [
    "Putting Records for each Line Separately"
   ]
  },
  {
   "cell_type": "code",
   "execution_count": 47,
   "metadata": {},
   "outputs": [],
   "source": [
    "# Creating a file with the header for each line\n",
    "csv_line = ['time','lineID','directionID','distancefromPoint','pointID']\n",
    "for lineID in df['lineID'].unique():\n",
    "    str_lineID = lineID\n",
    "    if not np.isnan(lineID):\n",
    "        str_lineID = int(str_lineID)\n",
    "    else:\n",
    "        str_lineID = 'null'\n",
    "    str_lineID = str(str_lineID)\n",
    "    with open(f'{file_path}Line{str_lineID}_vehiclePosition.csv', 'w',newline='') as c:\n",
    "        # create the csv writer\n",
    "        writer = csv.writer(c)\n",
    "        # write csv header\n",
    "        writer.writerow(csv_line)"
   ]
  },
  {
   "cell_type": "code",
   "execution_count": 46,
   "metadata": {},
   "outputs": [],
   "source": [
    "def one_line_per_file(input_dir, input_f):\n",
    "    with open(input_dir+input_f, newline='') as csvfile:\n",
    "        csv_reader = csv.reader(csvfile, delimiter=',')\n",
    "        old_lineID = '1'\n",
    "        line_results = []\n",
    "        for row in csv_reader:  \n",
    "            lineID = row[1]\n",
    "            if lineID == old_lineID:\n",
    "                line_results.append(row)\n",
    "            else:\n",
    "                # saved results for a line for particular time\n",
    "                # write those results to the appropriate file\n",
    "                with open(f'{file_path}Line{old_lineID}_vehiclePosition.csv', 'a',newline='') as c:\n",
    "                    writer = csv.writer(c)\n",
    "                    writer.writerows(line_results)\n",
    "                # a new result array for the next line\n",
    "                old_lineID = lineID\n",
    "                line_results = [row]\n",
    "        # writing the last batch of results of the file\n",
    "        with open(f'{file_path}Line{old_lineID}_vehiclePosition.csv', 'a',newline='') as c:\n",
    "            writer = csv.writer(c)\n",
    "            writer.writerows(line_results)"
   ]
  },
  {
   "cell_type": "code",
   "execution_count": 57,
   "metadata": {},
   "outputs": [
    {
     "name": "stderr",
     "output_type": "stream",
     "text": [
      "/home/sayyor/.local/share/virtualenvs/race-charts-3Ukbqb5o/lib/python3.8/site-packages/IPython/core/interactiveshell.py:3441: DtypeWarning: Columns (4) have mixed types.Specify dtype option on import or set low_memory=False.\n",
      "  exec(code_obj, self.user_global_ns, self.user_ns)\n"
     ]
    }
   ],
   "source": [
    "# Confirming the number of results match for each line\n",
    "all_occurences = {}\n",
    "for i in range(1, 14):\n",
    "    fileID = str(i).zfill(2)\n",
    "    filename = f'vehiclePosition{fileID}.csv'\n",
    "    df = pd.read_csv(file_path+filename)\n",
    "    occurences = dict(df['lineID'].value_counts())\n",
    "    if all_occurences == {}:\n",
    "        all_occurences = dict(occurences)\n",
    "    else:\n",
    "        for key in all_occurences:\n",
    "            if key in occurences:\n",
    "                all_occurences[key] += occurences[key]"
   ]
  },
  {
   "cell_type": "code",
   "execution_count": 58,
   "metadata": {},
   "outputs": [
    {
     "data": {
      "text/plain": [
       "{7.0: 529144,\n",
       " 95.0: 531447,\n",
       " 82.0: 515924,\n",
       " 51.0: 500110,\n",
       " 81.0: 504996,\n",
       " 92.0: 486408,\n",
       " 65.0: 423811,\n",
       " 71.0: 435665,\n",
       " 8.0: 386756,\n",
       " 80.0: 390862,\n",
       " 5.0: 405897,\n",
       " 93.0: 402974,\n",
       " 25.0: 387235,\n",
       " 19.0: 374100,\n",
       " 46.0: 374030,\n",
       " 53.0: 367269,\n",
       " 38.0: 346695,\n",
       " 3.0: 383543,\n",
       " 29.0: 352595,\n",
       " 48.0: 343800,\n",
       " 49.0: 326486,\n",
       " 87.0: 308770,\n",
       " 6.0: 332930,\n",
       " 1.0: 305454,\n",
       " 59.0: 296514,\n",
       " 83.0: 292515,\n",
       " 55.0: 295709,\n",
       " 34.0: 271519,\n",
       " 60.0: 278309,\n",
       " 54.0: 276552,\n",
       " 4.0: 282947,\n",
       " 66.0: 266702,\n",
       " 97.0: 276705,\n",
       " 14.0: 272554,\n",
       " 88.0: 273299,\n",
       " 64.0: 259764,\n",
       " 12.0: 238655,\n",
       " 20.0: 240316,\n",
       " 36.0: 243214,\n",
       " 86.0: 250698,\n",
       " 41.0: 234265,\n",
       " 56.0: 238414,\n",
       " 13.0: 231422,\n",
       " 89.0: 233720,\n",
       " 45.0: 224191,\n",
       " 63.0: 231204,\n",
       " 27.0: 222168,\n",
       " 2.0: 215114,\n",
       " 47.0: 201958,\n",
       " 39.0: 211299,\n",
       " 58.0: 215717,\n",
       " 74.0: 211740,\n",
       " 43.0: 205633,\n",
       " 28.0: 188596,\n",
       " 21.0: 196146,\n",
       " 50.0: 179314,\n",
       " 44.0: 186908,\n",
       " 79.0: 183275,\n",
       " 61.0: 174369,\n",
       " 37.0: 163857,\n",
       " 9.0: 131274,\n",
       " 57.0: 107511,\n",
       " 70.0: 114793,\n",
       " 62.0: 120972,\n",
       " 42.0: 124988,\n",
       " 75.0: 112767,\n",
       " 78.0: 107803,\n",
       " 98.0: 98755,\n",
       " 17.0: 93979,\n",
       " 76.0: 63121,\n",
       " 33.0: 69363,\n",
       " 69.0: 33083,\n",
       " 72.0: 42247,\n",
       " 77.0: 19044}"
      ]
     },
     "execution_count": 58,
     "metadata": {},
     "output_type": "execute_result"
    }
   ],
   "source": [
    "all_occurences"
   ]
  },
  {
   "cell_type": "code",
   "execution_count": 60,
   "metadata": {},
   "outputs": [],
   "source": [
    "for key in all_occurences:\n",
    "    lineID = int(key)\n",
    "    with open(f'{file_path}Line{lineID}_vehiclePosition.csv', newline='') as csvfile:\n",
    "        csv_reader = csv.reader(csvfile, delimiter=',')\n",
    "        row_count = sum(1 for row in csv_reader)\n",
    "        if row_count-1 != all_occurences[key]:\n",
    "            print(lineID, row_count-1, all_occurences[key])"
   ]
  },
  {
   "cell_type": "code",
   "execution_count": 48,
   "metadata": {},
   "outputs": [
    {
     "name": "stdout",
     "output_type": "stream",
     "text": [
      "01\n",
      "02\n",
      "03\n",
      "04\n",
      "05\n",
      "06\n",
      "07\n",
      "08\n",
      "09\n",
      "10\n",
      "11\n",
      "12\n",
      "13\n"
     ]
    }
   ],
   "source": [
    "for i in range(1, 14):\n",
    "    fileID = str(i).zfill(2)\n",
    "    filename = f'vehiclePosition{fileID}.csv'\n",
    "    one_line_per_file(file_path, filename)\n",
    "    print(lineID)"
   ]
  },
  {
   "cell_type": "markdown",
   "metadata": {},
   "source": [
    "Analyzing Route 71"
   ]
  },
  {
   "cell_type": "code",
   "execution_count": 94,
   "metadata": {},
   "outputs": [
    {
     "data": {
      "text/plain": [
       "6442    235027\n",
       "3042    163975\n",
       "5299     17684\n",
       "5361      6758\n",
       "3176       109\n",
       "5362        81\n",
       "6435        57\n",
       "9701        49\n",
       "2987        23\n",
       "2888        16\n",
       "3062        14\n",
       "3412        12\n",
       "2975         6\n",
       "Name: directionID, dtype: int64"
      ]
     },
     "execution_count": 94,
     "metadata": {},
     "output_type": "execute_result"
    }
   ],
   "source": [
    "# all last stops and number of occurences\n",
    "df['directionID'].value_counts()"
   ]
  },
  {
   "cell_type": "code",
   "execution_count": 104,
   "metadata": {},
   "outputs": [
    {
     "data": {
      "text/plain": [
       "6442    235027\n",
       "3042    163975\n",
       "5299     17684\n",
       "5361      6758\n",
       "3176       109\n",
       "5362        81\n",
       "6435        57\n",
       "9701        49\n",
       "2987        23\n",
       "2888        16\n",
       "3062        14\n",
       "3412        12\n",
       "2975         6\n",
       "Name: directionID, dtype: int64"
      ]
     },
     "execution_count": 104,
     "metadata": {},
     "output_type": "execute_result"
    }
   ],
   "source": [
    "# all last stops and number of occurences\n",
    "df['directionID'].value_counts()"
   ]
  },
  {
   "cell_type": "markdown",
   "metadata": {},
   "source": [
    "Get Arrival Times for each Stop, Direction, Line"
   ]
  },
  {
   "cell_type": "code",
   "execution_count": 122,
   "metadata": {},
   "outputs": [
    {
     "data": {
      "text/html": [
       "<div>\n",
       "<style scoped>\n",
       "    .dataframe tbody tr th:only-of-type {\n",
       "        vertical-align: middle;\n",
       "    }\n",
       "\n",
       "    .dataframe tbody tr th {\n",
       "        vertical-align: top;\n",
       "    }\n",
       "\n",
       "    .dataframe thead th {\n",
       "        text-align: right;\n",
       "    }\n",
       "</style>\n",
       "<table border=\"1\" class=\"dataframe\">\n",
       "  <thead>\n",
       "    <tr style=\"text-align: right;\">\n",
       "      <th></th>\n",
       "      <th>time</th>\n",
       "      <th>lineID</th>\n",
       "      <th>directionID</th>\n",
       "      <th>distancefromPoint</th>\n",
       "      <th>pointID</th>\n",
       "    </tr>\n",
       "  </thead>\n",
       "  <tbody>\n",
       "    <tr>\n",
       "      <th>0</th>\n",
       "      <td>1630914886924</td>\n",
       "      <td>65</td>\n",
       "      <td>6442</td>\n",
       "      <td>139</td>\n",
       "      <td>2996</td>\n",
       "    </tr>\n",
       "    <tr>\n",
       "      <th>1</th>\n",
       "      <td>1630914886924</td>\n",
       "      <td>65</td>\n",
       "      <td>6442</td>\n",
       "      <td>94</td>\n",
       "      <td>5362</td>\n",
       "    </tr>\n",
       "    <tr>\n",
       "      <th>2</th>\n",
       "      <td>1630914886924</td>\n",
       "      <td>65</td>\n",
       "      <td>6442</td>\n",
       "      <td>52</td>\n",
       "      <td>3451</td>\n",
       "    </tr>\n",
       "    <tr>\n",
       "      <th>3</th>\n",
       "      <td>1630914886924</td>\n",
       "      <td>65</td>\n",
       "      <td>6442</td>\n",
       "      <td>254</td>\n",
       "      <td>6308</td>\n",
       "    </tr>\n",
       "    <tr>\n",
       "      <th>7</th>\n",
       "      <td>1630914886924</td>\n",
       "      <td>65</td>\n",
       "      <td>6442</td>\n",
       "      <td>787</td>\n",
       "      <td>2905</td>\n",
       "    </tr>\n",
       "    <tr>\n",
       "      <th>...</th>\n",
       "      <td>...</td>\n",
       "      <td>...</td>\n",
       "      <td>...</td>\n",
       "      <td>...</td>\n",
       "      <td>...</td>\n",
       "    </tr>\n",
       "    <tr>\n",
       "      <th>423801</th>\n",
       "      <td>1632241153806</td>\n",
       "      <td>65</td>\n",
       "      <td>6442</td>\n",
       "      <td>329</td>\n",
       "      <td>2792</td>\n",
       "    </tr>\n",
       "    <tr>\n",
       "      <th>423802</th>\n",
       "      <td>1632241153806</td>\n",
       "      <td>65</td>\n",
       "      <td>6442</td>\n",
       "      <td>0</td>\n",
       "      <td>3042</td>\n",
       "    </tr>\n",
       "    <tr>\n",
       "      <th>423803</th>\n",
       "      <td>1632241153806</td>\n",
       "      <td>65</td>\n",
       "      <td>6442</td>\n",
       "      <td>0</td>\n",
       "      <td>2899</td>\n",
       "    </tr>\n",
       "    <tr>\n",
       "      <th>423806</th>\n",
       "      <td>1632241153806</td>\n",
       "      <td>65</td>\n",
       "      <td>6442</td>\n",
       "      <td>162</td>\n",
       "      <td>2908</td>\n",
       "    </tr>\n",
       "    <tr>\n",
       "      <th>423807</th>\n",
       "      <td>1632241153806</td>\n",
       "      <td>65</td>\n",
       "      <td>6442</td>\n",
       "      <td>17</td>\n",
       "      <td>3299</td>\n",
       "    </tr>\n",
       "  </tbody>\n",
       "</table>\n",
       "<p>235027 rows × 5 columns</p>\n",
       "</div>"
      ],
      "text/plain": [
       "                 time  lineID  directionID  distancefromPoint  pointID\n",
       "0       1630914886924      65         6442                139     2996\n",
       "1       1630914886924      65         6442                 94     5362\n",
       "2       1630914886924      65         6442                 52     3451\n",
       "3       1630914886924      65         6442                254     6308\n",
       "7       1630914886924      65         6442                787     2905\n",
       "...               ...     ...          ...                ...      ...\n",
       "423801  1632241153806      65         6442                329     2792\n",
       "423802  1632241153806      65         6442                  0     3042\n",
       "423803  1632241153806      65         6442                  0     2899\n",
       "423806  1632241153806      65         6442                162     2908\n",
       "423807  1632241153806      65         6442                 17     3299\n",
       "\n",
       "[235027 rows x 5 columns]"
      ]
     },
     "execution_count": 122,
     "metadata": {},
     "output_type": "execute_result"
    }
   ],
   "source": [
    "df.loc[df['directionID'] == 6442]"
   ]
  },
  {
   "cell_type": "code",
   "execution_count": 127,
   "metadata": {},
   "outputs": [],
   "source": [
    "init_cols = ['pointID', 'arrival_times']\n",
    "init_cols.extend(['dirID ' + str(x) for x in df['directionID'].unique()])"
   ]
  },
  {
   "cell_type": "code",
   "execution_count": 130,
   "metadata": {},
   "outputs": [],
   "source": [
    "arrival_ts = pd.DataFrame(columns=init_cols)"
   ]
  },
  {
   "cell_type": "code",
   "execution_count": 137,
   "metadata": {},
   "outputs": [
    {
     "data": {
      "text/html": [
       "<div>\n",
       "<style scoped>\n",
       "    .dataframe tbody tr th:only-of-type {\n",
       "        vertical-align: middle;\n",
       "    }\n",
       "\n",
       "    .dataframe tbody tr th {\n",
       "        vertical-align: top;\n",
       "    }\n",
       "\n",
       "    .dataframe thead th {\n",
       "        text-align: right;\n",
       "    }\n",
       "</style>\n",
       "<table border=\"1\" class=\"dataframe\">\n",
       "  <thead>\n",
       "    <tr style=\"text-align: right;\">\n",
       "      <th></th>\n",
       "      <th>pointID</th>\n",
       "      <th>arrival_times</th>\n",
       "      <th>dirID 6442</th>\n",
       "      <th>dirID 3042</th>\n",
       "      <th>dirID 5361</th>\n",
       "      <th>dirID 5299</th>\n",
       "      <th>dirID 5362</th>\n",
       "      <th>dirID 3412</th>\n",
       "      <th>dirID 6435</th>\n",
       "      <th>dirID 3176</th>\n",
       "      <th>dirID 9701</th>\n",
       "      <th>dirID 2888</th>\n",
       "      <th>dirID 2987</th>\n",
       "      <th>dirID 2975</th>\n",
       "      <th>dirID 3062</th>\n",
       "    </tr>\n",
       "  </thead>\n",
       "  <tbody>\n",
       "  </tbody>\n",
       "</table>\n",
       "</div>"
      ],
      "text/plain": [
       "Empty DataFrame\n",
       "Columns: [pointID, arrival_times, dirID 6442, dirID 3042, dirID 5361, dirID 5299, dirID 5362, dirID 3412, dirID 6435, dirID 3176, dirID 9701, dirID 2888, dirID 2987, dirID 2975, dirID 3062]\n",
       "Index: []"
      ]
     },
     "execution_count": 137,
     "metadata": {},
     "output_type": "execute_result"
    }
   ],
   "source": [
    "arrival_ts"
   ]
  },
  {
   "cell_type": "code",
   "execution_count": 140,
   "metadata": {},
   "outputs": [
    {
     "data": {
      "text/plain": [
       "497       2021-09-06 10:10:43.572000\n",
       "1590      2021-09-06 10:50:12.951000\n",
       "2217      2021-09-06 11:14:24.081000\n",
       "2607      2021-09-06 11:28:40.987000\n",
       "3098      2021-09-06 11:46:04.269000\n",
       "                     ...            \n",
       "420394    2021-09-21 16:52:03.457000\n",
       "420415    2021-09-21 16:52:34.894000\n",
       "421304    2021-09-21 17:17:51.360000\n",
       "421821    2021-09-21 17:31:07.940000\n",
       "423558    2021-09-21 18:13:28.996000\n",
       "Name: time, Length: 822, dtype: object"
      ]
     },
     "execution_count": 140,
     "metadata": {},
     "output_type": "execute_result"
    }
   ],
   "source": [
    "pointID = 2996\n",
    "dirID = 6442\n",
    "df.loc[(df['pointID'] == pointID) & (df['directionID'] == dirID) & (df['distancefromPoint'] == 0)]['time'].apply(lambda t: datetime.datetime.fromtimestamp(t/1000).strftime('%Y-%m-%d %H:%M:%S.%f'))"
   ]
  },
  {
   "cell_type": "code",
   "execution_count": 132,
   "metadata": {},
   "outputs": [
    {
     "name": "stdout",
     "output_type": "stream",
     "text": [
      "2996\n",
      "5362\n",
      "3451\n",
      "6308\n",
      "6364\n",
      "3353\n",
      "6081\n",
      "2905\n",
      "2792\n",
      "6210\n",
      "6410\n",
      "5361\n",
      "2991\n",
      "3042\n",
      "9060\n",
      "9727\n",
      "7024\n",
      "5048\n",
      "3412\n",
      "2988\n",
      "2895\n",
      "2975\n",
      "1283\n",
      "6435\n",
      "3305\n",
      "2795\n",
      "2101\n",
      "2100\n",
      "2976\n",
      "2796\n",
      "2915\n",
      "6411\n",
      "2102\n",
      "3354\n",
      "2292\n",
      "2977\n",
      "3355\n",
      "2294\n",
      "2916\n",
      "3306\n",
      "3062\n",
      "3414\n",
      "2990\n",
      "2908\n",
      "9702\n",
      "2839\n",
      "2987\n",
      "6359\n",
      "3307\n",
      "5735\n",
      "6303\n",
      "9701\n",
      "6445\n",
      "3176\n",
      "2997\n",
      "3299\n",
      "2888\n",
      "6438\n",
      "2980\n",
      "9728\n",
      "2926\n",
      "2899\n",
      "2051\n",
      "2067\n",
      "2917\n",
      "3304\n",
      "6442\n",
      "2986\n",
      "3362\n",
      "3072\n",
      "3361\n",
      "5299\n",
      "7058\n"
     ]
    }
   ],
   "source": [
    "for pointID in df['pointID'].unique():\n",
    "    "
   ]
  }
 ],
 "metadata": {
  "kernelspec": {
   "display_name": "Python 3.8.10 ('race-charts-3Ukbqb5o')",
   "language": "python",
   "name": "python3"
  },
  "language_info": {
   "codemirror_mode": {
    "name": "ipython",
    "version": 3
   },
   "file_extension": ".py",
   "mimetype": "text/x-python",
   "name": "python",
   "nbconvert_exporter": "python",
   "pygments_lexer": "ipython3",
   "version": "3.8.10"
  },
  "orig_nbformat": 4,
  "vscode": {
   "interpreter": {
    "hash": "5088c1fd66889e515c1fc9f10310dd1dafb56e948a5069cc046f6ad2ef1ac8a3"
   }
  }
 },
 "nbformat": 4,
 "nbformat_minor": 2
}
